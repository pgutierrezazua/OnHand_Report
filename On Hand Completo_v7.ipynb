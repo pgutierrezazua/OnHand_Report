{
 "cells": [
  {
   "cell_type": "code",
   "execution_count": 1,
   "id": "250a267a",
   "metadata": {},
   "outputs": [],
   "source": [
    "import time\n",
    "import pandas as pd\n",
    "from datetime import date\n",
    "from datetime import datetime\n",
    "from datetime import timedelta\n",
    "import win32com.client as win32\n",
    "import os\n",
    "start_time = time.time()"
   ]
  },
  {
   "cell_type": "markdown",
   "id": "212098f8",
   "metadata": {},
   "source": [
    "## Parte 1: Ingreso nombre archivos"
   ]
  },
  {
   "cell_type": "code",
   "execution_count": 2,
   "id": "69910735",
   "metadata": {},
   "outputs": [],
   "source": [
    "OnHandAvance = '2023-09-15 ON HAND AVANCE.xlsb'\n",
    "OnHandCompleto_DiaAnterior = '2023-09-14 ON HAND COMPLETO.xlsb'\n",
    "afo = '2023-09-15 AFO AVANCE.xlsb'\n",
    "plan_crc = 'Plan Septiembre 2023 CRC.xlsx'\n",
    "plan_crecsar = 'Plan CSAR-CRE_ORIGINAL.xlsx'\n",
    "activacion = 'ACTIVACION 15-09.XLSX'\n",
    "qpluss_ecc = 'QPLUSS ECC 15-09.XLSX'\n",
    "qpluss = 'QPLUS (1).xlsx'"
   ]
  },
  {
   "cell_type": "markdown",
   "id": "714c95c8",
   "metadata": {},
   "source": [
    "## Parte 2: Carga archivos"
   ]
  },
  {
   "cell_type": "code",
   "execution_count": 3,
   "id": "ee711742",
   "metadata": {},
   "outputs": [],
   "source": [
    "# 1.1 Leer Data On Hand Avance día Actual\n",
    "df1 = pd.read_excel(OnHandAvance, engine = 'pyxlsb', dtype = 'string', usecols = 'A:X')\n",
    "\n",
    "# 1.2 Al cargar la data, python lee las comas como puntos, por lo tanto aplicamos la funcion replace para mantenerlas como ','\n",
    "df1['Ctd.'] = df1['Ctd.'].str.replace(\".\",\",\", regex = False)\n",
    "\n",
    "# 1.3 Agregar OS+OP+MAT\n",
    "df1['OS+OP+MAT'] = df1['OS'] + df1['OP'] + df1['Producto']\n",
    "\n",
    "# 1.4 Agregamos identificador unico\n",
    "df1['Identificador Unico'] = df1.index.values.tolist()"
   ]
  },
  {
   "cell_type": "markdown",
   "id": "715a74c7",
   "metadata": {},
   "source": [
    "## Parte 3: Agregar Columnas"
   ]
  },
  {
   "cell_type": "markdown",
   "id": "11fca51d",
   "metadata": {},
   "source": [
    "## Días en Proceso"
   ]
  },
  {
   "cell_type": "code",
   "execution_count": 4,
   "id": "bd73ffdd",
   "metadata": {},
   "outputs": [],
   "source": [
    "# 2.1 Fecha a formato fecha, creando una columna auxiliar para aquellos valores sin Tipo fecha\n",
    "df1['Fecha EM_Aux'] = df1['Fecha EM']\n",
    "df1['Fecha EM'] = pd.to_datetime(df1['Fecha EM'], errors='coerce', dayfirst = True)\n",
    "\n",
    "# 2.2 Calculo días en proceso\n",
    "today = datetime.today()\n",
    "df1['DIAS EN PROCESO'] = list(map(lambda x: ((today - x).days), df1['Fecha EM']))\n",
    "\n",
    "# 2.3 Fecha EM a String\n",
    "df1['Fecha EM'] = df1['Fecha EM'].dt.strftime(\"%d/%m/%Y\")\n",
    "\n",
    "# 2.4 Aquellos que no tenian formato fecha , los igualamos a la columna Auxiliar para recuperar dichos valores\n",
    "df1.loc[pd.isna(df1['Fecha EM']) == True, 'Fecha EM'] = df1['Fecha EM_Aux'].iloc[df1.loc[pd.isna(df1['Fecha EM'])].index.values]\n",
    "\n",
    "# 2.5 Borrar Fecha Auxiliar\n",
    "df1.drop(labels = 'Fecha EM_Aux', axis = 1, inplace = True)"
   ]
  },
  {
   "cell_type": "markdown",
   "id": "65a55e0b",
   "metadata": {},
   "source": [
    "## Plan"
   ]
  },
  {
   "cell_type": "code",
   "execution_count": 5,
   "id": "fa520f84",
   "metadata": {},
   "outputs": [],
   "source": [
    "# 3.1 Insertar Columna Plan\n",
    "df1['Plan'] = pd.NA\n",
    "\n",
    "# 3.2 Crear Columnas auxiliares 4 primeros digitos (CRC, CSAR, CRE) y 6 primeros digitos (KIT)\n",
    "df1['OS.SUP_AUX'] = list(map(lambda x: x[:4], df1['OS.SUP']))\n",
    "df1['OS.SUP_KIT'] = list(map(lambda x: x[:6], df1['OS.SUP']))\n",
    "\n",
    "# 3.3 Replacements\n",
    "df1.loc[df1['OS.SUP_AUX'] == '5028', 'Plan'] = 'PLAN CSAR'\n",
    "df1.loc[df1['OS.SUP_AUX'] == '5082', 'Plan'] = 'PLAN CRE'\n",
    "df1.loc[df1['OS.SUP_AUX'] == '5059', 'Plan'] = 'PLAN CRC'\n",
    "df1.loc[df1['OS.SUP_KIT'] == '000001', 'Plan'] = 'PLAN KIT'\n",
    "\n",
    "# 3.4 Eliminar Columnas Auxiliares\n",
    "df1.drop(labels = ['OS.SUP_AUX', 'OS.SUP_KIT'], axis = 1, inplace = True)"
   ]
  },
  {
   "cell_type": "markdown",
   "id": "fc5f761f",
   "metadata": {},
   "source": [
    "## Fecha de Despacho"
   ]
  },
  {
   "cell_type": "code",
   "execution_count": 6,
   "id": "f9d678cc",
   "metadata": {},
   "outputs": [],
   "source": [
    "# 4. Leer archivos\n",
    "df_crc = pd.read_excel(plan_crc, sheet_name = 'Planificación CRC', usecols = ['Orden de Servicio', 'Fecha de Entrega'],\n",
    "                       dtype = 'string')\n",
    "df_cre = pd.read_excel(plan_crecsar, sheet_name = 'Planificación CRE', usecols = ['Orden de Servicio','Fecha de Entrega'], \n",
    "                      dtype = 'string' )\n",
    "df_csar = pd.read_excel(plan_crecsar, sheet_name = 'Planificación CSAR', usecols = ['Oso','Fecha de Entrega'],\n",
    "                       dtype = 'string')"
   ]
  },
  {
   "cell_type": "code",
   "execution_count": 7,
   "id": "602a6c16",
   "metadata": {},
   "outputs": [],
   "source": [
    "# CRC\n",
    "\n",
    "# 5.1 Fechas CRC: Mas reciente al mas Antiguo\n",
    "df_crc.sort_values(by = 'Fecha de Entrega', ascending = False, inplace = True)\n",
    "\n",
    "# 5.2 Reset index\n",
    "df_crc.reset_index(inplace = True)\n",
    "\n",
    "# 5.3 Columna auxiliar para arreglar formato CRC\n",
    "df_crc['Fecha de Entrega_Auxiliar'] = df_crc['Fecha de Entrega']\n",
    "\n",
    "# 5.4 Fecha Entrega a formato fecha (String dtype)\n",
    "df_crc['Fecha de Entrega'] = pd.to_datetime(df_crc['Fecha de Entrega'], errors = 'coerce').dt.strftime('%d/%m/%Y')\n",
    "\n",
    "# 5.5 Aquellos que no tenian formato fecha , los igualamos a la columna Auxiliar para recuperar dichos valores\n",
    "df_crc.loc[pd.isna(df_crc['Fecha de Entrega']) == True, 'Fecha de Entrega'] = \\\n",
    "df_crc['Fecha de Entrega_Auxiliar'].iloc[df_crc.loc[pd.isna(df_crc['Fecha de Entrega'])].index.values]\n",
    "\n",
    "# 5.6 Eliminar columna Auxiliar e index\n",
    "df_crc.drop(['Fecha de Entrega_Auxiliar', 'index'], axis = 1, inplace = True)\n",
    "\n",
    "# 5.7 Eliminar duplicados Orden de Servicio\n",
    "df_crc.drop_duplicates('Orden de Servicio', keep = 'first', inplace = True)"
   ]
  },
  {
   "cell_type": "code",
   "execution_count": 8,
   "id": "9c8ee97d",
   "metadata": {},
   "outputs": [],
   "source": [
    "# CRE\n",
    "\n",
    "# 6.1 Fechas CRC: Mas reciente al mas Antiguo\n",
    "df_cre.sort_values(by = 'Fecha de Entrega', ascending = False, inplace = True)\n",
    "\n",
    "# 6.2 Reset index\n",
    "df_cre.reset_index(inplace = True)\n",
    "\n",
    "# 6.3 Columna auxiliar para arreglar formato CRC\n",
    "df_cre['Fecha de Entrega_Auxiliar'] = df_cre['Fecha de Entrega']\n",
    "\n",
    "# 6.4 Fecha Entrega a formato fecha (String dtype)\n",
    "df_cre['Fecha de Entrega'] = pd.to_datetime(df_cre['Fecha de Entrega'], errors = 'coerce').dt.strftime('%d/%m/%Y')\n",
    "\n",
    "# 6.5 Aquellos que no tenian formato fecha , los igualamos a la columna Auxiliar para recuperar dichos valores\n",
    "df_cre.loc[pd.isna(df_cre['Fecha de Entrega']) == True, 'Fecha de Entrega'] = \\\n",
    "df_cre['Fecha de Entrega_Auxiliar'].iloc[df_cre.loc[pd.isna(df_cre['Fecha de Entrega'])].index.values]\n",
    "\n",
    "# 6.6 Eliminar columna Auxiliar e index\n",
    "df_cre.drop(['Fecha de Entrega_Auxiliar', 'index'], axis = 1, inplace = True)\n",
    "\n",
    "# 6.7 Eliminar duplicados Orden de Servicio\n",
    "df_cre.drop_duplicates('Orden de Servicio', keep = 'first', inplace = True)"
   ]
  },
  {
   "cell_type": "code",
   "execution_count": 9,
   "id": "91b7fe5a",
   "metadata": {},
   "outputs": [],
   "source": [
    "# CSAR\n",
    "\n",
    "# 7.1 Fechas CRC: Mas reciente al mas Antiguo\n",
    "df_csar.sort_values(by = 'Fecha de Entrega', ascending = False, inplace = True)\n",
    "\n",
    "# 7.2 Reset index\n",
    "df_csar.reset_index(inplace = True)\n",
    "\n",
    "# 7.3 Columna auxiliar para arreglar formato CRC\n",
    "df_csar['Fecha de Entrega_Auxiliar'] = df_csar['Fecha de Entrega']\n",
    "\n",
    "# 7.4 Fecha Entrega a formato fecha (String dtype)\n",
    "df_csar['Fecha de Entrega'] = pd.to_datetime(df_csar['Fecha de Entrega'], errors = 'coerce').dt.strftime('%d/%m/%Y')\n",
    "\n",
    "# 7.5 Aquellos que no tenian formato fecha , los igualamos a la columna Auxiliar para recuperar dichos valores\n",
    "df_csar.loc[pd.isna(df_csar['Fecha de Entrega']) == True, 'Fecha de Entrega'] = \\\n",
    "df_csar['Fecha de Entrega_Auxiliar'].iloc[df_csar.loc[pd.isna(df_csar['Fecha de Entrega'])].index.values]\n",
    "\n",
    "# 7.6 Eliminar columna Auxiliar e index\n",
    "df_csar.drop(['Fecha de Entrega_Auxiliar', 'index'], axis = 1, inplace = True)\n",
    "\n",
    "# 7.7 Eliminar duplicados Orden de Servicio\n",
    "df_csar.drop_duplicates('Oso', keep = 'first', inplace = True)\n",
    "\n",
    "# 7.8 Eliminar N/A\n",
    "df_csar.dropna(axis = 0, subset = 'Oso', inplace = True)\n",
    "\n",
    "# 7.9 Renombrar columna fecha\n",
    "df_csar.rename(columns = {'Fecha de Entrega':'Fecha de Entrega CSAR'}, inplace = True)"
   ]
  },
  {
   "cell_type": "code",
   "execution_count": 10,
   "id": "dff270c4",
   "metadata": {},
   "outputs": [],
   "source": [
    "# Concatenar CRC y CRE\n",
    "\n",
    "# 8.1 Concatenar archivos según Orden de Servicio superior\n",
    "df_crecrc = pd.concat([df_crc,df_cre], axis = 0)\n",
    "\n",
    "# 8.2 Eliminar N/A\n",
    "df_crecrc.dropna(axis = 0, subset = 'Orden de Servicio', inplace = True)\n",
    "\n",
    "# 8.3 Renombrar columna fecha\n",
    "df_crecrc.rename(columns = {'Fecha de Entrega':'Fecha de Entrega CRE-CRC'}, inplace = True)"
   ]
  },
  {
   "cell_type": "code",
   "execution_count": 11,
   "id": "a85fa348",
   "metadata": {},
   "outputs": [],
   "source": [
    "# Cruce Fechas CSAR\n",
    "\n",
    "# 9.1 Fijar como Key Value = OSO en Planificacion CSAR\n",
    "df_csar.set_index('Oso', inplace = True)\n",
    "\n",
    "# 9.2 Fijar como Key Value = OSO en dataframe Base\n",
    "df1.set_index('OSO', inplace = True)\n",
    "\n",
    "# 9.3 Join\n",
    "df1 = df1.join(df_csar, how = 'left')\n",
    "\n",
    "# 9.4 Reset index\n",
    "df1.reset_index(inplace = True)\n",
    "\n",
    "# 9.5 Renombrar Columna\n",
    "df1.rename(columns = {'index': 'OSO'}, inplace = True)\n",
    "\n",
    "# 9.6 Ordenar Valores según identificador único\n",
    "df1.sort_values(by = 'Identificador Unico', inplace = True)"
   ]
  },
  {
   "cell_type": "code",
   "execution_count": 12,
   "id": "91b2f6df",
   "metadata": {},
   "outputs": [],
   "source": [
    "# Cruce Fechas CRC - CRE\n",
    "\n",
    "# 10.1 Fijar como Key Value = OSO en Planificacion CRC - CRE\n",
    "df1.set_index('OS.SUP', inplace = True)\n",
    "\n",
    "# 10.2 Fijar como Key Value = OSO en dataframe Base\n",
    "df_crecrc.set_index('Orden de Servicio', inplace = True)\n",
    "\n",
    "# 10.3 Join\n",
    "df1 = df1.join(df_crecrc, how = 'left')\n",
    "\n",
    "# 10.4 Reset index y renombrar columna\n",
    "df1.reset_index(inplace = True)\n",
    "\n",
    "# 10.5 Renombrar Columna\n",
    "df1.rename(columns = {'index': 'OS.SUP'}, inplace = True)\n",
    "\n",
    "# 10.6 Ordenar Valores según identificador único\n",
    "df1.sort_values(by = 'Identificador Unico', inplace = True)"
   ]
  },
  {
   "cell_type": "code",
   "execution_count": 13,
   "id": "29d214fc",
   "metadata": {},
   "outputs": [],
   "source": [
    "# Unificar Fechas\n",
    "\n",
    "# 11.1 Relleno de #NaN con ''\n",
    "df1['Fecha de Entrega CSAR'].fillna('', inplace = True)\n",
    "df1['Fecha de Entrega CRE-CRC'].fillna('', inplace = True)\n",
    "\n",
    "# 11.2 Unir ambas columnas\n",
    "df1['FECHA DE DESPACHO'] = df1['Fecha de Entrega CSAR'] + df1['Fecha de Entrega CRE-CRC']\n",
    "\n",
    "# 11.3 Reset Index\n",
    "df1.reset_index(inplace = True)\n",
    "\n",
    "# 11.4 Borrar columna index\n",
    "df1.drop('index', axis = 1, inplace = True)\n",
    "\n",
    "# 11.5 Eliminar Columa de Fechas CSAR y CRE-CRC\n",
    "df1.drop(['Fecha de Entrega CSAR', 'Fecha de Entrega CRE-CRC'], axis = 1, inplace = True)\n",
    "\n",
    "# 11.6 Todo lo que no tenga Plan, FECHA DESPACHO = Vacío\n",
    "df1.loc[pd.isna(df1['Plan']), 'FECHA DE DESPACHO'] = pd.NA"
   ]
  },
  {
   "cell_type": "markdown",
   "id": "98b38d60",
   "metadata": {},
   "source": [
    "## Tipo de Cliente"
   ]
  },
  {
   "cell_type": "code",
   "execution_count": 14,
   "id": "7783d5d6",
   "metadata": {},
   "outputs": [],
   "source": [
    "# 12.1 Crear Columna Tipo de Cliente\n",
    "df1['TIPO DE CLIENTE'] = pd.NA\n",
    "\n",
    "# 12.2 Crear Columnas auxiliares 4 primeros digitos y 6 primeros digitos\n",
    "df1['OS.SUP_AUX'] = list(map(lambda x: x[:4], df1['OS.SUP']))\n",
    "df1['OS.SUP_KIT'] = list(map(lambda x: x[:6], df1['OS.SUP']))\n",
    "\n",
    "# 12.3 Rellenar Tipo de Cliente\n",
    "df1.loc[df1['OS.SUP_AUX'] == '5028', 'TIPO DE CLIENTE'] = 'CSAR'\n",
    "df1.loc[df1['OS.SUP_AUX'] == '5082', 'TIPO DE CLIENTE'] = 'CRE'\n",
    "df1.loc[df1['OS.SUP_AUX'] == '5059', 'TIPO DE CLIENTE'] = 'CRC'\n",
    "df1.loc[df1['OS.SUP_KIT'] == '000001', 'TIPO DE CLIENTE'] = 'KIT'\n",
    "\n",
    "# 12.4 Eliminar Columnas Auxiliares\n",
    "df1.drop(labels = ['OS.SUP_AUX', 'OS.SUP_KIT'], axis = 1, inplace = True)"
   ]
  },
  {
   "cell_type": "markdown",
   "id": "16a47ff9",
   "metadata": {},
   "source": [
    "## Tipo de OS"
   ]
  },
  {
   "cell_type": "code",
   "execution_count": 15,
   "id": "ab362372",
   "metadata": {},
   "outputs": [],
   "source": [
    "# 13.1 Crear Columna Tipo de Cliente\n",
    "df1['TIPO DE OS'] = pd.NA"
   ]
  },
  {
   "cell_type": "markdown",
   "id": "f4bc576e",
   "metadata": {},
   "source": [
    "## Semana"
   ]
  },
  {
   "cell_type": "code",
   "execution_count": 16,
   "id": "91298c71",
   "metadata": {},
   "outputs": [],
   "source": [
    "# 14.1 Crear Columna Semana\n",
    "df1['Semana'] = pd.NA\n",
    "\n",
    "# 14.2 Columna auxiliar para arreglar el formato\n",
    "df1['FECHA DE DESPACHO AUXILIAR'] = df1['FECHA DE DESPACHO']\n",
    "\n",
    "# 14.3 Fecha Entrega a formato fecha\n",
    "df1['FECHA DE DESPACHO'] = pd.to_datetime(df1['FECHA DE DESPACHO'], errors = 'coerce', dayfirst = True, format = '%d/%m/%Y')\n",
    "\n",
    "# 14.4 Calculo de Semana para los valores de la Columna FECHA DE DESPACHO con valores en formato Fecha\n",
    "df1.loc[pd.isna(df1['FECHA DE DESPACHO']) == False, 'Semana'] = \\\n",
    "list(map(lambda x: datetime.date(x).strftime(\"%W\"), df1.loc[pd.isna(df1['FECHA DE DESPACHO']) == False, 'FECHA DE DESPACHO']))\n",
    "\n",
    "# 14.5 ELiminar 0 de la derecha a la columna Semana\n",
    "df1.loc[pd.isna(df1['Semana']) == False,  'Semana'] = \\\n",
    "df1.loc[pd.isna(df1['Semana']) == False,  'Semana'].apply(lambda x: x.lstrip('0'))\n",
    "\n",
    "# 14.6 FECHA DE DESPACHO a formato Texto\n",
    "df1['FECHA DE DESPACHO'] = df1['FECHA DE DESPACHO'].dt.strftime(\"%d/%m/%Y\")\n",
    "\n",
    "# 14.6 Aquellos que no tenian formato fecha , los igualamos a la columna Auxiliar para recuperar dichos valores\n",
    "df1.loc[pd.isna(df1['FECHA DE DESPACHO']) == True, 'FECHA DE DESPACHO'] = \\\n",
    "df1['FECHA DE DESPACHO AUXILIAR'].iloc[df1.loc[pd.isna(df1['FECHA DE DESPACHO'])].index.values]\n",
    "\n",
    "# 14.7 Eliminar fecha de despacho Auxiliar\n",
    "df1.drop('FECHA DE DESPACHO AUXILIAR', axis = 1, inplace = True)"
   ]
  },
  {
   "cell_type": "markdown",
   "id": "0ea2d910",
   "metadata": {},
   "source": [
    "## Activación: Cdt. Activaciones y ULTI. ACTIVACION"
   ]
  },
  {
   "cell_type": "code",
   "execution_count": 17,
   "id": "b0314e5f",
   "metadata": {},
   "outputs": [],
   "source": [
    "# 15 Leer Archivo\n",
    "df_activacion = pd.read_excel(activacion , dtype = 'string', skipfooter = 5, usecols = ['Orden', 'Fe.sol.'])"
   ]
  },
  {
   "cell_type": "code",
   "execution_count": 18,
   "id": "d35aa722",
   "metadata": {},
   "outputs": [],
   "source": [
    "# Cantidad de Activaciones\n",
    "\n",
    "# 16.1 Dataframe para Cantidad de activaciones\n",
    "ctd_act = df_activacion.loc[:, ['Orden','Fe.sol.']]\n",
    "\n",
    "# 16.2 Funcion Texto a la Operación\n",
    "ctd_act['Orden'] = ctd_act['Orden'].apply(lambda x: x.zfill(12))\n",
    "\n",
    "# 16.3 Crear Orden Superior\n",
    "ctd_act['OS.SUP'] = [i[:10] + '00' for i in ctd_act['Orden']]\n",
    "\n",
    "# 16.4 Eliminar columna Orden\n",
    "ctd_act.drop(columns = 'Orden', inplace = True)\n",
    "\n",
    "# 16.5 Setear Key Value OS.SUP como Index\n",
    "ctd_act.set_index('OS.SUP', inplace = True)\n",
    "\n",
    "# 16.6 Conteo Distinto\n",
    "ctd_act = ctd_act.groupby('OS.SUP').nunique()\n",
    "\n",
    "# 16.7 Cambiar nombre de columna\n",
    "ctd_act.rename(columns = {'Fe.sol.':'Cdt. Activaciones'}, inplace = True)\n",
    "\n",
    "# 16.8 Setear en df1 Key Value OS.SUP como Index\n",
    "df1.set_index('OS.SUP', inplace = True)\n",
    "\n",
    "# 16.9 Join\n",
    "df1 = df1.join(ctd_act, how = 'left')\n",
    "\n",
    "# 16.10 Ordenar por Identificador Unico\n",
    "df1.sort_values(by = 'Identificador Unico', inplace = True)"
   ]
  },
  {
   "cell_type": "code",
   "execution_count": 19,
   "id": "8136db7c",
   "metadata": {},
   "outputs": [],
   "source": [
    "# Fecha Activación\n",
    "\n",
    "# 17.1 Dataframe para Cantidad de activaciones\n",
    "fesol = df_activacion.loc[:, ['Orden','Fe.sol.']]\n",
    "\n",
    "# 17.2 Funcion Texto a la Operación\n",
    "fesol['Orden'] = fesol['Orden'].apply(lambda x: x.zfill(12))\n",
    "\n",
    "# 17.3 Crear Orden Superior\n",
    "fesol['OS.SUP'] = [i[:10] + '00' for i in fesol['Orden']]\n",
    "\n",
    "# 17.4 Ordenar por Fecha Solicitud (Mas reciente)\n",
    "fesol.sort_values(by = 'Fe.sol.', ascending = False, inplace = True)\n",
    "\n",
    "# 17.5 Eliminar Duplicados\n",
    "fesol.drop_duplicates('OS.SUP', keep = 'first', inplace = True)\n",
    "\n",
    "# 17.6 Eliminar 00:00:00 de la Columna Fecha\n",
    "fesol['Fe.sol.'] = fesol['Fe.sol.'].str.replace(\" 00:00:00\",\"\", regex = False)\n",
    "\n",
    "# 17.7 Eliminar Columna Orden\n",
    "fesol.drop(columns = 'Orden', inplace = True)\n",
    "\n",
    "# 17.8 Columna fecha a formato fecha\n",
    "fesol['Fe.sol.'] = pd.to_datetime(fesol['Fe.sol.'])\n",
    "\n",
    "# 17.9 Columna Fecha a formato String, con formato dd-mm-YYYY\n",
    "fesol['Fe.sol.'] = fesol['Fe.sol.'].dt.strftime('%d/%m/%Y')\n",
    "\n",
    "# 17.10 Key Value = OS.Sup en index para realizar el Join\n",
    "fesol.set_index('OS.SUP', inplace = True)\n",
    "\n",
    "# 17.11 Renombrar columna\n",
    "fesol.rename(columns = {'Fe.sol.':'ULTI. ACTIVACION'}, inplace = True)\n",
    "\n",
    "# 17.12 Join\n",
    "df1 = df1.join(fesol, how = 'left')\n",
    "\n",
    "# 17.13 Reset Index\n",
    "df1.reset_index(inplace = True)\n",
    "\n",
    "# 17.14 Ordenar por Identificador Unico\n",
    "df1.sort_values(by = 'Identificador Unico', inplace = True)"
   ]
  },
  {
   "cell_type": "markdown",
   "id": "6053fb51",
   "metadata": {},
   "source": [
    "## Cruce AFO"
   ]
  },
  {
   "cell_type": "code",
   "execution_count": 20,
   "id": "c002a102",
   "metadata": {},
   "outputs": [],
   "source": [
    "# 18. Leer Hojas: Hoja1 y Resumen x Ln\n",
    "df_afo_resumenxoso = pd.read_excel(afo, sheet_name = 'Hoja1', engine = 'pyxlsb', dtype = 'string')\n",
    "df_afo_resumenxlinea = pd.read_excel(afo, sheet_name = 'Resumen x Ln', engine = 'pyxlsb', dtype = 'string')"
   ]
  },
  {
   "cell_type": "code",
   "execution_count": 21,
   "id": "46608195",
   "metadata": {},
   "outputs": [],
   "source": [
    "# 19.1 Dataframe con todas aquellas columnas que usan la columna OSO como Key Value\n",
    "cruce_oso = df_afo_resumenxoso.loc[:, ['OSO', 'St.Consolidacion', 'ST OSO', 'LnPend x OSO']]\n",
    "\n",
    "# 19.2 Eliminar duplicados de OSO\n",
    "cruce_oso.drop_duplicates('OSO', keep = 'first', inplace = True)\n",
    "\n",
    "# 19.3 Fijar OSO como Key value para el Join\n",
    "cruce_oso.set_index('OSO', inplace = True)\n",
    "\n",
    "# 19.4 Fijar OSO en dataframe base como Key value para el Join\n",
    "df1.set_index('OSO', inplace = True)\n",
    "\n",
    "# 19.5 Join\n",
    "df1 = df1.join(cruce_oso, how = 'left')\n",
    "\n",
    "# 19.6 Reset Index\n",
    "df1.reset_index(inplace = True)"
   ]
  },
  {
   "cell_type": "code",
   "execution_count": 22,
   "id": "3b08e8ff",
   "metadata": {},
   "outputs": [],
   "source": [
    "# 20.1 Dataframe con todas aquellas columnas que usan la columna OS+OP+Mat como Key Value\n",
    "cruce_osopmat = df_afo_resumenxlinea.loc[:, ['OS+OP+Mat', 'ST Linea', 'TSolicitado', 'Delta']]\n",
    "\n",
    "# 20.2 Eliminar duplicados de OS+OP+Mat\n",
    "cruce_osopmat.drop_duplicates('OS+OP+Mat', keep = 'first', inplace = True)\n",
    "\n",
    "# 20.3 Fijar OS+OP+Mat como Key value para el Join\n",
    "cruce_osopmat.set_index('OS+OP+Mat', inplace = True)\n",
    "\n",
    "# 20.4 Fijar OS+OP+Mat en dataframe base como Key value para el Join\n",
    "df1.set_index('OS+OP+MAT', inplace = True)\n",
    "\n",
    "# 20.5 Join\n",
    "df1 = df1.join(cruce_osopmat, how = 'left')\n",
    "\n",
    "# 20.6 Reset Index\n",
    "df1.reset_index(inplace = True)\n",
    "\n",
    "# 20.7 Renombrar columna que salió del index\n",
    "df1.rename(columns = {'index':'OS+OP+MAT'}, inplace = True)"
   ]
  },
  {
   "cell_type": "code",
   "execution_count": 23,
   "id": "84408f15",
   "metadata": {},
   "outputs": [],
   "source": [
    "# 21.1 Dataframe con todas aquellas columnas que usan la columna OSO como Key Value\n",
    "cruce_osup = df_afo_resumenxoso.loc[:, ['Orden Superior', 'ST Padre', 'LnPend x Padre']]\n",
    "\n",
    "# 21.2 Eliminar duplicados de OS.SUP\n",
    "cruce_osup.drop_duplicates('Orden Superior', keep = 'first', inplace = True)\n",
    "\n",
    "# 21.3 Fijar OS.SUP como Key value para el Join\n",
    "cruce_osup.set_index('Orden Superior', inplace = True)\n",
    "\n",
    "# 21.4 Fijar OS.SUP en dataframe base como Key value para el Join\n",
    "df1.set_index('OS.SUP', inplace = True)\n",
    "\n",
    "# 21.5 Join\n",
    "df1 = df1.join(cruce_osup, how = 'left')\n",
    "\n",
    "# 21.6 Reset Index\n",
    "df1.reset_index(inplace = True)\n",
    "\n",
    "# 21.7 Renombrar columna que salió del index\n",
    "df1.rename(columns = {'index':'OS.SUP'}, inplace = True)"
   ]
  },
  {
   "cell_type": "code",
   "execution_count": 24,
   "id": "32d645e5",
   "metadata": {},
   "outputs": [],
   "source": [
    "# Una vez terminado los cruces:\n",
    "\n",
    "# 22.1 Ordenar Valores\n",
    "df1.sort_values(by = 'Identificador Unico', inplace = True)\n",
    "\n",
    "# 22.2 Renombrar columnas Nuevas\n",
    "df1.rename(columns = {'St.Consolidacion' : 'CONSOLIDACION OSO', 'ST OSO' : 'ESTATUS OSO', 'LnPend x OSO' : 'LP. X Oso',\n",
    "            'ST Linea' : 'ESTATUS Linea', 'TSolicitado' : 'SOLICITADO', 'Delta' : 'DELTA', 'ST Padre' : 'ESTATUS Padre', \n",
    "            'LnPend x Padre' : 'LP. X Padre'}, inplace = True)"
   ]
  },
  {
   "cell_type": "markdown",
   "id": "e4d961f7",
   "metadata": {},
   "source": [
    "## Conjunto (Todos los clientes) y TIPO OS para CRC"
   ]
  },
  {
   "cell_type": "code",
   "execution_count": 25,
   "id": "41186e1a",
   "metadata": {},
   "outputs": [],
   "source": [
    "# 23.1 Cargar data día anterior\n",
    "df_dia_anterior = pd.read_excel(OnHandCompleto_DiaAnterior, sheet_name = 'BASE 1',\n",
    "                                     usecols = ['OS', 'CONJUNTO','TIPO DE OS'], engine = 'pyxlsb', dtype = 'string')\n",
    "\n",
    "# 23.2 Renombrar Columna TIPO DE OS. Puesto que haremos el cruce solo para el CRC\n",
    "df_dia_anterior.rename(columns = {'TIPO DE OS': 'TIPO DE OS CRC'}, inplace = True)"
   ]
  },
  {
   "cell_type": "code",
   "execution_count": 26,
   "id": "687424b0",
   "metadata": {},
   "outputs": [],
   "source": [
    "# Conjunto\n",
    "\n",
    "# 24.1 Dataframe para conjunto\n",
    "df_conjunto_anterior = df_dia_anterior.loc[:, ['OS', 'CONJUNTO']]\n",
    "\n",
    "# 24.2 Eliminar valores vacíos\n",
    "df_conjunto_anterior.dropna(inplace = True)\n",
    "\n",
    "# 24.3 Eliminar Duplicados\n",
    "df_conjunto_anterior.drop_duplicates(subset = 'OS', keep = 'first', inplace = True)\n",
    "\n",
    "# 24.4 Eliminar Conjuntos raros\n",
    "df_conjunto_anterior.drop(df_conjunto_anterior[df_conjunto_anterior['CONJUNTO'] == '0x2a'].index, inplace = True)\n",
    "\n",
    "# 24.5 Reordenar Index\n",
    "df1.sort_index(inplace = True)\n",
    "\n",
    "# 24.6 Fijar OS como Key value para el Join\n",
    "df_conjunto_anterior.set_index('OS', inplace = True)\n",
    "\n",
    "# 24.7 Fijar OS en el dataframe base como Key value para el Join\n",
    "df1.set_index('OS', inplace = True)\n",
    "\n",
    "# 24.8 Join\n",
    "df1 = df1.join(df_conjunto_anterior)\n",
    "\n",
    "# 24.9 Conjunto = NO MOTOR, para CSAR, CRE y KIT\n",
    "df1.loc[df1['TIPO DE CLIENTE'] == 'CSAR', 'CONJUNTO'] = 'NO MOTOR'\n",
    "df1.loc[df1['TIPO DE CLIENTE'] == 'CRE', 'CONJUNTO'] = 'NO MOTOR'\n",
    "df1.loc[df1['TIPO DE CLIENTE'] == 'KIT', 'CONJUNTO'] = 'NO MOTOR'"
   ]
  },
  {
   "cell_type": "code",
   "execution_count": 27,
   "id": "73b6e31e",
   "metadata": {},
   "outputs": [],
   "source": [
    "# Tipo de OS para CRC\n",
    "\n",
    "# 25.1 Dataframe para TIPO DE OS CRC\n",
    "df_os_crc = df_dia_anterior.loc[:, ['OS', 'TIPO DE OS CRC']]\n",
    "\n",
    "# 25.2 Eliminar valores vacíos\n",
    "df_os_crc.dropna(inplace = True)\n",
    "\n",
    "# 25.3 Nos quedamos solo con CRC\n",
    "df_os_crc = df_os_crc.loc[(df_os_crc['TIPO DE OS CRC'] != 'CSAR') & (df_os_crc['TIPO DE OS CRC'] != 'KIT') \\\n",
    "             & (df_os_crc['TIPO DE OS CRC'] != 'CRE')]\n",
    "\n",
    "# 25.4 Eliminar duplicados de Orden de Servicio\n",
    "df_os_crc.drop_duplicates(subset = 'OS', keep = 'first', inplace = True)\n",
    "\n",
    "# 25.5 Fijar OS como Key value para el Join\n",
    "df_os_crc.set_index('OS', inplace = True)\n",
    "\n",
    "# 25.6 Join\n",
    "df1 = df1.join(df_os_crc)\n",
    "\n",
    "# 25.7 Tipo de OS para CRC\n",
    "df1['TIPO DE OS'] = df1['TIPO DE OS CRC']\n",
    "\n",
    "# 25.8 Tipo de OS CSAR, CRE , KIT\n",
    "df1.loc[df1['TIPO DE CLIENTE'] == 'CSAR', 'TIPO DE OS'] = 'CSAR'\n",
    "df1.loc[df1['TIPO DE CLIENTE'] == 'CRE', 'TIPO DE OS'] = 'CRE'\n",
    "df1.loc[df1['TIPO DE CLIENTE'] == 'KIT', 'TIPO DE OS'] = 'KIT'\n",
    "\n",
    "# 25.9 Eliminar Columna TIPO DE OS CRC\n",
    "df1.drop('TIPO DE OS CRC', axis = 1, inplace = True)\n",
    "\n",
    "# 25.10 Ordenar según identificador Unico\n",
    "df1.sort_values(by = 'Identificador Unico', inplace = True)\n",
    "\n",
    "# 25.11 Reset Index\n",
    "df1.reset_index(inplace = True)"
   ]
  },
  {
   "cell_type": "markdown",
   "id": "a299c07c",
   "metadata": {},
   "source": [
    "## Job y ESTATUS QPLUS"
   ]
  },
  {
   "cell_type": "code",
   "execution_count": 28,
   "id": "51e11921",
   "metadata": {},
   "outputs": [],
   "source": [
    "# 26.1 Leer Archivo\n",
    "df_qpluss = pd.read_excel(qpluss, usecols = ['OS', 'JobControl', 'Estado', 'OrdenMigación'], dtype = 'string')"
   ]
  },
  {
   "cell_type": "code",
   "execution_count": 29,
   "id": "2abb9a84",
   "metadata": {},
   "outputs": [],
   "source": [
    "# 27.1 Eliminar OS sin valores\n",
    "df_qpluss.dropna(subset = 'OS', axis = 0, inplace = True)\n",
    "\n",
    "# 27.2 Dar formato de 12 números a la Orden de Servicio\n",
    "df_qpluss['OS'] = df_qpluss['OS'].apply(lambda x: x.zfill(12))\n",
    "\n",
    "# 27.3 Crear columna de Orden Superior con formato correspondiente\n",
    "df_qpluss['OS.SUP'] = [i[:10] + '00' for i in df_qpluss['OS']]\n",
    "\n",
    "# 27.4 Reset Index\n",
    "df_qpluss.reset_index(inplace = True)\n",
    "\n",
    "# 27.5 Eliminar columna Index\n",
    "df_qpluss.drop(labels = 'index', axis = 1, inplace = True)\n",
    "\n",
    "# 27.5 Dar formato a OS.SUP a los valores de Orden Migación\n",
    "df_qpluss.loc[pd.isna(df_qpluss['OrdenMigación']) == False, 'OS.SUP'] = \\\n",
    "list(map(lambda x: x[:10] + '00' , df_qpluss.loc[pd.isna(df_qpluss['OrdenMigación']) == False, 'OrdenMigación']))\n",
    "\n",
    "# 27.6 Eliminar columnas OS y OrdenMigación\n",
    "df_qpluss.drop(['OS', 'OrdenMigación'], axis = 1, inplace = True)\n",
    "\n",
    "# 27.7 Eliminar duplicados de Orden Superior para hacer el Join\n",
    "df_qpluss.drop_duplicates(subset = 'OS.SUP', keep = 'first', inplace = True)\n",
    "\n",
    "# 27.8 Renombrar columnas\n",
    "df_qpluss.rename(columns = {'JobControl':'JOB', 'Estado':'ESTATUS QPLUS'}, inplace = True)\n",
    "\n",
    "# 27.9 Setear index a OS.SUP\n",
    "df_qpluss.set_index('OS.SUP', inplace = True)\n",
    "\n",
    "# 27.10 Key Values OS.SUP para el dataframe base df1\n",
    "df1.set_index('OS.SUP', inplace = True)\n",
    "\n",
    "# 27.11 Join\n",
    "df1 = df1.join(df_qpluss, how = 'left')\n",
    "\n",
    "# 27.12 Ordenar Valores según Identificador Unico\n",
    "df1.sort_values(by = 'Identificador Unico', inplace = True)\n",
    "\n",
    "# 27.13 Reset Index\n",
    "df1.reset_index(inplace = True)\n",
    "\n",
    "# 27.14 Job y Estatus QPLUS = Vacio para los clientes que no nos interesan\n",
    "df1.loc[pd.isna(df1['TIPO DE CLIENTE']), ['JOB', 'ESTATUS QPLUS']] = pd.NA"
   ]
  },
  {
   "cell_type": "markdown",
   "id": "22918489",
   "metadata": {},
   "source": [
    "## ESTATUS QPLUS CABECERA ECC, ESTATUS QPLUS ECC"
   ]
  },
  {
   "cell_type": "code",
   "execution_count": 30,
   "id": "02029444",
   "metadata": {},
   "outputs": [],
   "source": [
    "# 28 Leer archivo\n",
    "df_qpluss_ecc = pd.read_excel(qpluss_ecc, dtype = 'string')"
   ]
  },
  {
   "cell_type": "code",
   "execution_count": 31,
   "id": "a9cf3448",
   "metadata": {},
   "outputs": [],
   "source": [
    "# 29.1 Arreglar formato Fecha\n",
    "df_qpluss_ecc['Fecha entrada'] = df_qpluss_ecc['Fecha entrada'].str.replace(\" 00:00:00\",\"\", regex = False)\n",
    "df_qpluss_ecc['Fecha entrada'] = pd.to_datetime(df_qpluss_ecc['Fecha entrada'])\n",
    "\n",
    "# 29.2 Ordenar fecha por mas Reciente\n",
    "df_qpluss_ecc.sort_values(by = 'Fecha entrada', ascending = False, inplace = True)\n",
    "\n",
    "# 29.3 Formato final fecha\n",
    "df_qpluss_ecc['Fecha entrada'] = df_qpluss_ecc['Fecha entrada'].dt.strftime(date_format = '%d/%m/%Y')\n",
    "\n",
    "# 29.4 Dar formato de 12 número a la Orden de Servicio\n",
    "df_qpluss_ecc['Orden'] = df_qpluss_ecc['Orden'].apply(lambda x: x.zfill(12))\n",
    "\n",
    "# 29.5 Eliminar Duplicados de Orden (Nos quedamos con el primer valor encontrado)\n",
    "df_qpluss_ecc.drop_duplicates(subset = 'Orden', keep = 'first', inplace = True)\n",
    "\n",
    "# 29.6 Eliminar Columna Fecha Entrada\n",
    "df_qpluss_ecc.drop('Fecha entrada', axis = 1, inplace = True)\n",
    "\n",
    "# 29.7 Renombrar columnas\n",
    "df_qpluss_ecc.rename(columns = {'Status de usuario' : 'ESTATUS QPLUS ECC', 'Status del sistema':'ESTATUS QPLUS CABECERA ECC'}, \n",
    "                     inplace = True)\n",
    "\n",
    "# 29.8 Columna Orden Como Key Value para el Join con df1\n",
    "df_qpluss_ecc.set_index('Orden', inplace = True)\n",
    "\n",
    "# 29.9 Columna OS Como Key Value en df1 para Join con QPlussEcc\n",
    "df1.set_index('OS', inplace = True)\n",
    "\n",
    "# 29.10 Join\n",
    "df1 = df1.join(df_qpluss_ecc, how = 'left')\n",
    "\n",
    "# 29.11 Reset index\n",
    "df1.reset_index(inplace = True)\n",
    "\n",
    "# 29.12 Renombrar columna index\n",
    "df1.rename(columns = {'index' : 'OS'}, inplace = True)\n",
    "\n",
    "# 29.13 Ordenar según Identificador Unico\n",
    "df1.sort_values(by = 'Identificador Unico', inplace = True)"
   ]
  },
  {
   "cell_type": "markdown",
   "id": "de6b1448",
   "metadata": {},
   "source": [
    "## SIGNIFICADO QPLUS ECC"
   ]
  },
  {
   "cell_type": "code",
   "execution_count": 32,
   "id": "80cf3865",
   "metadata": {},
   "outputs": [],
   "source": [
    "# 30 Cargar BASE 2\n",
    "df_base2 = pd.read_excel(OnHandAvance, sheet_name = 'BASE 2', dtype = 'string')\n",
    "sqecc = df_base2.loc[: , ['ESTATUS QPLUS ECC','SIGNIFICADO QPLUS ECC']]"
   ]
  },
  {
   "cell_type": "code",
   "execution_count": 33,
   "id": "c6d318e1",
   "metadata": {},
   "outputs": [],
   "source": [
    "# DropNA\n",
    "sqecc.dropna(inplace = True)"
   ]
  },
  {
   "cell_type": "code",
   "execution_count": 34,
   "id": "fbd706f2",
   "metadata": {},
   "outputs": [],
   "source": [
    "# 31.3 Drop Duplicates (Just in Case)\n",
    "sqecc.drop_duplicates(subset = 'ESTATUS QPLUS ECC', inplace = True)"
   ]
  },
  {
   "cell_type": "code",
   "execution_count": 35,
   "id": "f68912f8",
   "metadata": {},
   "outputs": [],
   "source": [
    "# 31.4 Key Value 'ESTATUS QPLUS ECC' para el Join con df1\n",
    "sqecc.set_index('ESTATUS QPLUS ECC', inplace = True)\n",
    "\n",
    "# 31.5 Key Value 'ESTATUS QPLUS ECC' en df1\n",
    "df1.set_index('ESTATUS QPLUS ECC', inplace = True)\n",
    "\n",
    "# 31.6 Join\n",
    "df1 = df1.join(sqecc, how = 'left')\n",
    "\n",
    "# 31.7 Reset Index\n",
    "df1.reset_index(inplace = True)\n",
    "\n",
    "# 31.8 Ordenar según Identificador Unico\n",
    "df1.sort_values(by = 'Identificador Unico', inplace = True)\n",
    "\n",
    "# 31.9 Reset Index\n",
    "df1.reset_index(inplace = True)\n",
    "\n",
    "# 31.10 Eliminar columna Index\n",
    "df1.drop('index', axis = 1, inplace = True)"
   ]
  },
  {
   "cell_type": "markdown",
   "id": "1a820f27",
   "metadata": {},
   "source": [
    "## Multioso"
   ]
  },
  {
   "cell_type": "code",
   "execution_count": 36,
   "id": "b7d72ff1",
   "metadata": {},
   "outputs": [],
   "source": [
    "# 32. Insertar Columna\n",
    "df1['MULTI-OSO'] = pd.NA"
   ]
  },
  {
   "cell_type": "markdown",
   "id": "e3311188",
   "metadata": {},
   "source": [
    "## Rellenar Tipo de OS"
   ]
  },
  {
   "cell_type": "code",
   "execution_count": 37,
   "id": "f2a91fdf",
   "metadata": {},
   "outputs": [],
   "source": [
    "# Leer archivo Transaccion ZZSRV_WIP\n",
    "df_tipo_os = pd.read_excel('TIPO DE OS 15-09.XLSX', dtype = 'string')\n",
    "\n",
    "# Crear columna Tipo OS para el cruce\n",
    "df_tipo_os['TIPO DE OS_2'] = pd.NA\n",
    "\n",
    "# Filtrar los valores que contienen .MO., estos los catalogaremos como Motores\n",
    "df_tipo_os.loc[df_tipo_os['Denominación'].str.contains('.MO.', regex = False), 'TIPO DE OS_2'] = 'MOTOR'\n",
    "\n",
    "# El resto, NO MOTOR\n",
    "df_tipo_os['TIPO DE OS_2'].fillna('NO MOTOR', axis = 0, inplace = True)"
   ]
  },
  {
   "cell_type": "code",
   "execution_count": 38,
   "id": "8be38f88",
   "metadata": {},
   "outputs": [],
   "source": [
    "# Join\n",
    "df_tipo_os = df_tipo_os.set_index('Orden')\n",
    "df1 = df1.set_index('OS')\n",
    "df1 = df1.join(df_tipo_os, how = 'left')\n",
    "df1 = df1.reset_index()\n",
    "df1.rename(columns = {'index': 'OS'}, inplace = True)"
   ]
  },
  {
   "cell_type": "code",
   "execution_count": 39,
   "id": "4668df82",
   "metadata": {},
   "outputs": [],
   "source": [
    "# Rellenar Tipo de OS\n",
    "#df1.loc[(df1['TIPO DE CLIENTE'] == 'CRC') & (pd.isna(df1['TIPO DE OS']) == True) & (pd.isna(df1['TIPO DE OS_2']) == False), \n",
    "#        'TIPO DE OS'] = df1.loc[(df1['TIPO DE CLIENTE'] == 'CRC') & (pd.isna(df1['TIPO DE OS']) == True), 'TIPO DE OS_2']"
   ]
  },
  {
   "cell_type": "code",
   "execution_count": 40,
   "id": "73564f69",
   "metadata": {},
   "outputs": [],
   "source": [
    "#df1.to_excel('df1.xlsx')"
   ]
  },
  {
   "cell_type": "markdown",
   "id": "049cc2bc",
   "metadata": {},
   "source": [
    "## Arreglos Finales"
   ]
  },
  {
   "cell_type": "code",
   "execution_count": 41,
   "id": "c495c3bd",
   "metadata": {},
   "outputs": [],
   "source": [
    "# 35.1 Ordenar\n",
    "df1.sort_values(by = 'Identificador Unico', inplace = True)\n",
    "\n",
    "# 35.2 Reset Index\n",
    "df1.reset_index(inplace = True)\n",
    "\n",
    "# 35.3 Eliminar Identificador Unico\n",
    "df1.drop(labels = 'Identificador Unico', axis = 1, inplace = True)\n",
    "\n",
    "# 35.4 Orden final de columnas\n",
    "Columnas_Final = ['OS.SUP','OSO','OS','OP','TIPO DE PROCESO','Tipo almacén','Ubicación','UMp sup.','UMp superior',\n",
    "                  'Unidad manipulación','Documento','Número de posición','Tipo de documento','Producto',\n",
    "                  'Descripción de producto','Ctd.','Propietario','Persona autorizada a disponer','Fecha EM','Hora EM',\n",
    "                  'Tipo de stocks','DIAS EN PROCESO','Plan','FECHA DE DESPACHO','TIPO DE CLIENTE','TIPO DE OS','Semana',\n",
    "                  'Cdt. Activaciones','ULTI. ACTIVACION','CONSOLIDACION OSO','ESTATUS OSO','ESTATUS Linea','ESTATUS Padre',\n",
    "                  'SOLICITADO','DELTA','LP. X Oso','LP. X Padre','CONJUNTO','JOB','ESTATUS QPLUS','ESTATUS QPLUS CABECERA ECC',\n",
    "                  'ESTATUS QPLUS ECC','SIGNIFICADO QPLUS ECC','MULTI-OSO','TU','FCH. Creacion TU','CENTRO. SUMNISTRO']\n",
    "\n",
    "df1 = df1.reindex(columns = Columnas_Final)\n",
    "\n",
    "# 35.5 Formato Correcto Columna Cantidad\n",
    "df1['Ctd.'] = df1['Ctd.'].str.replace(\",\",\".\", regex = False)\n",
    "df1['Ctd.'] = df1['Ctd.'].astype('float')\n",
    "\n",
    "# 35.6 Formato Correcto Columna Cantidad\n",
    "df1['Semana'] = df1['Semana'].astype(dtype='Int64')\n",
    "\n",
    "# 35.7 Formato Correcto Columna Solicitado\n",
    "df1['SOLICITADO'] = df1['SOLICITADO'].astype(dtype='Int64')\n",
    "\n",
    "# 35.8 Formato Correcto Columna Delta\n",
    "df1['DELTA'] = df1['DELTA'].astype(dtype='Int64')\n",
    "\n",
    "# 35.9 Formato Correcto Columna LP. x Oso\n",
    "df1['LP. X Oso'] = df1['LP. X Oso'].astype(dtype='Int64')\n",
    "\n",
    "# 35.10 Formato Correcto Columna LP. X Padre\n",
    "df1['LP. X Padre'] = df1['LP. X Padre'].astype(dtype='Int64')\n",
    "\n",
    "# 35.11 CONCAT como primera columna\n",
    "df1.set_index('OS.SUP', inplace = True)\n",
    "\n",
    "# 35.12 Espacio entre tablas\n",
    "df_base2.rename(columns = {'Unnamed: 2':'', 'Unnamed: 6':''}, inplace = True)\n",
    "\n",
    "# 35.13 ESTATUS QPLUSS ECC como primera columna\n",
    "df_base2.set_index('ESTATUS QPLUS ECC', inplace = True)\n",
    "\n",
    "# 35.14 BASE1 y BASE2 con index\n",
    "df1 = df1.reset_index()\n",
    "df_base2 = df_base2.reset_index()"
   ]
  },
  {
   "cell_type": "code",
   "execution_count": 42,
   "id": "33097dc9",
   "metadata": {},
   "outputs": [],
   "source": [
    "#df1.to_excel('df1.xlsx')"
   ]
  },
  {
   "cell_type": "code",
   "execution_count": 43,
   "id": "4a7ed3b6",
   "metadata": {},
   "outputs": [],
   "source": [
    "#df1.to_excel('2023-04-03 ON HAND COMPLETO.xlsx')"
   ]
  },
  {
   "cell_type": "code",
   "execution_count": 44,
   "id": "be8ce889",
   "metadata": {},
   "outputs": [],
   "source": [
    "# 36 Descargar Archivo\n",
    "today = date.today()\n",
    "fecha_hoy = today.strftime(\"%Y-%m-%d\")\n",
    "Nombre_Archivo = fecha_hoy + ' ON HAND COMPLETO.xlsx'\n",
    "with pd.ExcelWriter(Nombre_Archivo) as writer:  \n",
    "    df1.to_excel(writer, sheet_name='BASE 1', index = False)\n",
    "    df_base2.to_excel(writer, sheet_name='BASE 2', index = False)"
   ]
  },
  {
   "cell_type": "code",
   "execution_count": 45,
   "id": "ed5538d1",
   "metadata": {},
   "outputs": [],
   "source": [
    "# 37 Abrir excel y modificarlo\n",
    "\n",
    "# Abrir Instancia Excel\n",
    "xlApp = win32.Dispatch('Excel.Application')\n",
    "xlApp.Visible = True\n",
    "\n",
    "# Abrir On Hand Completo (Libro)\n",
    "path = os.path.abspath(Nombre_Archivo)\n",
    "wb = xlApp.Workbooks.Open(path)\n",
    "\n",
    "# Ajustar Columnas\n",
    "wb.Worksheets(1).Activate()\n",
    "wb.ActiveSheet.Columns.AutoFit()\n",
    "\n",
    "wb.Worksheets(2).Activate()\n",
    "wb.ActiveSheet.Columns.AutoFit()\n",
    "\n",
    "# Guardar como XLSB\n",
    "wb.SaveAs(Filename = os.path.dirname(path) + '\\\\' + fecha_hoy + ' ON HAND COMPLETO', FileFormat = 50)"
   ]
  },
  {
   "cell_type": "code",
   "execution_count": null,
   "id": "542f98e6",
   "metadata": {},
   "outputs": [],
   "source": []
  }
 ],
 "metadata": {
  "kernelspec": {
   "display_name": "Python 3 (ipykernel)",
   "language": "python",
   "name": "python3"
  },
  "language_info": {
   "codemirror_mode": {
    "name": "ipython",
    "version": 3
   },
   "file_extension": ".py",
   "mimetype": "text/x-python",
   "name": "python",
   "nbconvert_exporter": "python",
   "pygments_lexer": "ipython3",
   "version": "3.10.9"
  }
 },
 "nbformat": 4,
 "nbformat_minor": 5
}
