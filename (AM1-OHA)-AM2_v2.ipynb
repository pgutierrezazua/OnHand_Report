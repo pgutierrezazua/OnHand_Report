{
 "cells": [
  {
   "cell_type": "code",
   "execution_count": 1,
   "id": "550a66b7",
   "metadata": {},
   "outputs": [],
   "source": [
    "import pandas as pd"
   ]
  },
  {
   "cell_type": "code",
   "execution_count": 2,
   "id": "a11892db",
   "metadata": {},
   "outputs": [],
   "source": [
    "m1ohm2 = '2023-09-15 AFO BASE_Macro1_CruceOnHand_Macro2.xlsb'"
   ]
  },
  {
   "cell_type": "markdown",
   "id": "5ef484ac",
   "metadata": {},
   "source": [
    "## Parte I: Resumen x OSO"
   ]
  },
  {
   "cell_type": "code",
   "execution_count": 3,
   "id": "eec3cc07",
   "metadata": {},
   "outputs": [],
   "source": [
    "df = pd.read_excel(m1ohm2, sheet_name = 'Resumen x OSO', engine = 'pyxlsb', dtype = 'string', \n",
    "                   skiprows = 2, skipfooter = 1, usecols = 'A:K')"
   ]
  },
  {
   "cell_type": "code",
   "execution_count": 4,
   "id": "3fb1ab52",
   "metadata": {},
   "outputs": [],
   "source": [
    "df['Orden Superior'].ffill(inplace = True)\n",
    "df['Orden'].ffill(inplace = True)"
   ]
  },
  {
   "cell_type": "code",
   "execution_count": 5,
   "id": "a19506ea",
   "metadata": {},
   "outputs": [],
   "source": [
    "Orden_Superior = []\n",
    "for i in range(len(df['Orden Superior'])):\n",
    "    Orden_Superior.append(df['Orden Superior'][i][:10] + '00')"
   ]
  },
  {
   "cell_type": "code",
   "execution_count": 6,
   "id": "70776e57",
   "metadata": {},
   "outputs": [],
   "source": [
    "df.pop('Orden Superior')\n",
    "df.insert(loc = 0, column = 'Orden Superior', value = Orden_Superior)"
   ]
  },
  {
   "cell_type": "code",
   "execution_count": 7,
   "id": "475d2651",
   "metadata": {},
   "outputs": [],
   "source": [
    "df['OSO'] = df['Orden'] + df['Operación']\n",
    "oso = df.pop('OSO')\n",
    "df.insert(loc = 3, column ='OSO', value = oso.values)"
   ]
  },
  {
   "cell_type": "code",
   "execution_count": 8,
   "id": "64745c6a",
   "metadata": {},
   "outputs": [],
   "source": [
    "df.insert(loc = 4, column ='St.Consolidacion', value = pd.NA)"
   ]
  },
  {
   "cell_type": "code",
   "execution_count": 9,
   "id": "2c9ec57c",
   "metadata": {},
   "outputs": [],
   "source": [
    "df['Orden Superior'] = df['Orden Superior'].astype('string')\n",
    "df['St.Consolidacion'] = df['St.Consolidacion'].astype('string')\n",
    "for i in df.columns.values[-2:]:\n",
    "    df[i] = df[i].astype('float')"
   ]
  },
  {
   "cell_type": "code",
   "execution_count": 10,
   "id": "7e10a8c4",
   "metadata": {},
   "outputs": [],
   "source": [
    "df['Cuenta de OH 8034'].fillna(0, inplace = True)\n",
    "df['Cuenta de OH Otros'].fillna(0, inplace = True)"
   ]
  },
  {
   "cell_type": "code",
   "execution_count": 11,
   "id": "41415552",
   "metadata": {},
   "outputs": [],
   "source": [
    "df['Cuenta de Material'] = df['Cuenta de OH 8034'] + df['Cuenta de OH Otros']"
   ]
  },
  {
   "cell_type": "code",
   "execution_count": 12,
   "id": "ae87db03",
   "metadata": {},
   "outputs": [],
   "source": [
    "df.loc[df['Cuenta de OH 8034'] == 0, 'Cuenta de OH 8034'] = pd.NA\n",
    "df.loc[df['Cuenta de OH Otros'] == 0, 'Cuenta de OH Otros'] = pd.NA"
   ]
  },
  {
   "cell_type": "code",
   "execution_count": 13,
   "id": "c65dc873",
   "metadata": {},
   "outputs": [],
   "source": [
    "for i in range(len(df['Orden Superior'])):\n",
    "    if df['Cuenta de Material'][i] > 0 and pd.isna(df['Cuenta de OH Otros'][i]) == True and df['ST OSO'][i] == 'Completa':\n",
    "        df.loc[[i],['St.Consolidacion']] = 'Consolidada'\n",
    "    elif df['Cuenta de Material'][i] > 0 and pd.isna(df['Cuenta de OH Otros'][i]) == False and df['ST OSO'][i] == 'Completa':\n",
    "        df.loc[[i],['St.Consolidacion']] = 'No Consolidada'\n",
    "        continue"
   ]
  },
  {
   "cell_type": "code",
   "execution_count": 14,
   "id": "0f6d42f0",
   "metadata": {},
   "outputs": [],
   "source": [
    "# Correción errores detectados el 02-07-2022:\n",
    "df['LnPend x OSO'] = df['LnPend x OSO'].astype('int')\n",
    "df['LnPend x Hija'] = df['LnPend x Hija'].astype('int')\n",
    "df['LnPend x Padre'] = df['LnPend x Padre'].astype('int')\n",
    "\n",
    "# Eliminamos correlativo\n",
    "df.set_index('Orden Superior', inplace = True)"
   ]
  },
  {
   "cell_type": "markdown",
   "id": "a9217ad0",
   "metadata": {},
   "source": [
    "## Parte II: Resumen x Linea"
   ]
  },
  {
   "cell_type": "code",
   "execution_count": 15,
   "id": "f444871f",
   "metadata": {},
   "outputs": [],
   "source": [
    "df2 = pd.read_excel(m1ohm2, sheet_name = 'Resumen x Ln', engine = 'pyxlsb', dtype = 'string', usecols = 'A:U')"
   ]
  },
  {
   "cell_type": "code",
   "execution_count": 16,
   "id": "f5bb272b",
   "metadata": {},
   "outputs": [],
   "source": [
    "# Ajustamos el formato de algunas columnas:\n",
    "for i in df2.columns[6:14]:\n",
    "    df2[i] = df2[i].astype('float')\n",
    "df2['LnPend x OSO'] = df2['LnPend x OSO'].astype('float')\n",
    "df2['LnPend x Hija'] = df2['LnPend x Hija'].astype('float') \n",
    "df2['LnPend x Padre'] = df2['LnPend x Padre'].astype('float') "
   ]
  },
  {
   "cell_type": "code",
   "execution_count": 17,
   "id": "d0bec660",
   "metadata": {},
   "outputs": [],
   "source": [
    "for i in range(len(df2['ST Linea'])):\n",
    "    if df2['ST Linea'][i] == 'Completa' and df2['Delta'][i] > 0:\n",
    "        df2.loc[[i],['ST Linea']] = 'Completa - Sobre Consumo'\n",
    "        continue"
   ]
  },
  {
   "cell_type": "code",
   "execution_count": 18,
   "id": "349615ee",
   "metadata": {},
   "outputs": [],
   "source": [
    "df2.set_index('OS+OP', inplace = True)"
   ]
  },
  {
   "cell_type": "code",
   "execution_count": 19,
   "id": "038f538e",
   "metadata": {},
   "outputs": [],
   "source": [
    "with pd.ExcelWriter('AM1-OHA_AM2.xlsx') as writer:  \n",
    "    df.to_excel(writer, sheet_name='Resumen x OSO')\n",
    "    df2.to_excel(writer, sheet_name='Resumen x Ln')"
   ]
  }
 ],
 "metadata": {
  "kernelspec": {
   "display_name": "Python 3 (ipykernel)",
   "language": "python",
   "name": "python3"
  },
  "language_info": {
   "codemirror_mode": {
    "name": "ipython",
    "version": 3
   },
   "file_extension": ".py",
   "mimetype": "text/x-python",
   "name": "python",
   "nbconvert_exporter": "python",
   "pygments_lexer": "ipython3",
   "version": "3.10.9"
  }
 },
 "nbformat": 4,
 "nbformat_minor": 5
}
