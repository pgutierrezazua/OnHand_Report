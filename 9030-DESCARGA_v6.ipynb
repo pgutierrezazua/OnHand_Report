{
 "cells": [
  {
   "cell_type": "code",
   "execution_count": 1,
   "id": "a8517e35",
   "metadata": {},
   "outputs": [],
   "source": [
    "import time\n",
    "import pandas as pd\n",
    "from datetime import date\n",
    "from datetime import datetime\n",
    "from datetime import timedelta\n",
    "import win32com.client as win32\n",
    "import os\n",
    "start_time = time.time()"
   ]
  },
  {
   "cell_type": "code",
   "execution_count": 2,
   "id": "1e562684",
   "metadata": {},
   "outputs": [],
   "source": [
    "# Archivos\n",
    "d1 = '9030-D1.XLSX'\n",
    "d5 = '9030-D5.XLSX'\n",
    "d6 = '9030-D6.XLSX'\n",
    "d7 = '9030-D7.XLSX'\n",
    "TU = 'TU 15-09.XLSX'\n",
    "d9030_hoy = '9030-DESCARGA.XLSX'\n",
    "d9030_anterior = '9030-DESCARGA-14-09-2023.XLSX'"
   ]
  },
  {
   "cell_type": "code",
   "execution_count": 3,
   "id": "cd18b46b",
   "metadata": {},
   "outputs": [
    {
     "name": "stderr",
     "output_type": "stream",
     "text": [
      "C:\\Users\\pablo.gutierrez\\AppData\\Local\\Temp\\ipykernel_13420\\1327049712.py:10: DeprecationWarning: In a future version, `df.iloc[:, i] = newvals` will attempt to set the values inplace instead of always setting a new array. To retain the old behavior, use either `df[df.columns[i]] = newvals` or, if columns are non-unique, `df.isetitem(i, newvals)`\n",
      "  df1.loc[: , ['Status de entrada en stock', 'Status de la entrada de mercancías']] = pd.NA\n"
     ]
    }
   ],
   "source": [
    "# Leer 9030-DESCARGA del dia de hoy\n",
    "Columnas_9030 = ['Documento', 'Número de posición', 'Pedido de compras', 'Posición de pedido', 'Orden de servicio',\n",
    "                 'Operación de orden de servicio', 'Documento ERP', 'Posición de documento de ERP', 'Aviso de entrega', \n",
    "                 'Prod.', 'Descripción de producto', 'Ctd.', 'Unidad medida', 'Propietario del stock', \n",
    "                 'Status de entrada en stock','Status de la entrada de mercancías', 'Persona autorizada a disponer']\n",
    "\n",
    "df1 = pd.read_excel(d9030_hoy, dtype = 'string', usecols = Columnas_9030)\n",
    "\n",
    "# Vaciar valores columnas Fecha y Hora\n",
    "df1.loc[: , ['Status de entrada en stock', 'Status de la entrada de mercancías']] = pd.NA\n",
    "\n",
    "# Vaciar Ordenes y Operaciones con OS = Vacío\n",
    "df1.loc[pd.isna(df1['Orden de servicio']) , ['Orden de servicio', 'Operación de orden de servicio']] = pd.NA"
   ]
  },
  {
   "cell_type": "code",
   "execution_count": 4,
   "id": "bf7ccd09",
   "metadata": {},
   "outputs": [],
   "source": [
    "# Crear Columnas\n",
    "df1['ERP+POS+MAT+CTD'] = df1['Documento ERP'] + df1['Posición de documento de ERP'] + df1['Prod.'] + df1['Ctd.']\n",
    "df1['OS+OP+MAT+CTD'] = df1['Orden de servicio'] + df1['Operación de orden de servicio'] + df1['Prod.'] + df1['Ctd.']\n",
    "df1['D+I'] =  df1['Documento'] + df1['Número de posición']"
   ]
  },
  {
   "cell_type": "code",
   "execution_count": 5,
   "id": "61c95a19",
   "metadata": {},
   "outputs": [],
   "source": [
    "# Identificador Único\n",
    "df1['Identificador Unico'] = df1.index.values.tolist()"
   ]
  },
  {
   "cell_type": "code",
   "execution_count": 6,
   "id": "a23d7b53",
   "metadata": {},
   "outputs": [],
   "source": [
    "# Cruce UMP.SUP y UMP entre 9030 de hoy y el del dia anterior\n",
    "\n",
    "# Leer 9030-DESCARGA dia anterior\n",
    "df2 = pd.read_excel(d9030_anterior, dtype = 'string', usecols = ['Documento', 'Número de posición', 'UMP.SUP','UMP'])\n",
    "df2['D+I'] = df2['Documento'] + df2['Número de posición']\n",
    "df2.drop(labels = ['Documento', 'Número de posición'], axis = 1, inplace = True)\n",
    "\n",
    "# Join, asi obtenemos UMP.SUP y UMP\n",
    "df1.set_index('D+I', inplace = True)\n",
    "df2.set_index('D+I', inplace = True)\n",
    "df1 = df1.join(df2, how = 'left')\n",
    "df1.reset_index(inplace = True)"
   ]
  },
  {
   "cell_type": "code",
   "execution_count": 7,
   "id": "8460a5fe",
   "metadata": {},
   "outputs": [],
   "source": [
    "# Aviso de Entrega\n",
    "df1.loc[(pd.isna(df1['UMP'])) & (df1['Aviso de entrega'].str.contains('-Z')) , 'UMP'] = \\\n",
    "list(map(lambda x: str(x[0:8]) , df1.loc[(pd.isna(df1['UMP'])) & (df1['Aviso de entrega'].str.contains('-Z')) , 'Aviso de entrega']))\n",
    "\n",
    "df1.loc[(pd.isna(df1['UMP.SUP'])) & (df1['Aviso de entrega'].str.contains('-Z')) , 'UMP.SUP'] = \\\n",
    "list(map(lambda x: str(x[0:8]) , df1.loc[(pd.isna(df1['UMP.SUP'])) & (df1['Aviso de entrega'].str.contains('-Z')) , 'Aviso de entrega']))"
   ]
  },
  {
   "cell_type": "code",
   "execution_count": 8,
   "id": "d2bc002c",
   "metadata": {},
   "outputs": [],
   "source": [
    "# D5 y D6\n",
    "df3 = pd.read_excel(d5, usecols = ['Documento', 'Orden de servicio', 'Operación de orden de servicio'], dtype = 'string')\n",
    "df4 = pd.read_excel(d6, usecols = ['Documento', 'Producto', 'Ctd.real dest.UMB', 'Un.manipulac.origen', 'UMp destino',\n",
    "                                  'Fecha confirmación'], dtype = 'string')"
   ]
  },
  {
   "cell_type": "code",
   "execution_count": 9,
   "id": "a3555c13",
   "metadata": {},
   "outputs": [],
   "source": [
    "# Obtener OS y OP en 9030-D6\n",
    "\n",
    "# Eliminar Duplicados de Documento en df3\n",
    "df3.drop_duplicates(subset = 'Documento', keep = 'first', inplace = True)\n",
    "df3.set_index('Documento', inplace = True)\n",
    "df4.set_index('Documento', inplace = True)\n",
    "df4 = df4.join(df3, how = 'left')\n",
    "df4.reset_index(inplace = True)\n",
    "df4['OS+OP+MAT+CTD'] = df4['Orden de servicio'] + df4['Operación de orden de servicio'] +\\\n",
    "df4['Producto'] + df4['Ctd.real dest.UMB']"
   ]
  },
  {
   "cell_type": "code",
   "execution_count": 10,
   "id": "a0c4f76f",
   "metadata": {},
   "outputs": [],
   "source": [
    "# Primer Cruce para buscar UMp destino\n",
    "\n",
    "# Nuevo dataframe para realizar modificaciones\n",
    "df5 = df4.loc[: , ['OS+OP+MAT+CTD', 'UMp destino', 'Fecha confirmación']]\n",
    "\n",
    "# Eliminar celdas vacías\n",
    "df5.dropna(subset = 'OS+OP+MAT+CTD', axis = 0, inplace = True)\n",
    "df5.dropna(subset = 'UMp destino', axis = 0, inplace = True)\n",
    "df5.dropna(subset = 'Fecha confirmación', axis = 0, inplace = True)\n",
    "\n",
    "# Eliminar '00:00:00' columna Fecha confirmación\n",
    "df5['Fecha confirmación'] = df5['Fecha confirmación'].str.replace(\" 00:00:00\",\"\", regex = False)\n",
    "\n",
    "# Fecha confirmación a formato a Datetime\n",
    "df5['Fecha confirmación'] = pd.to_datetime(df5['Fecha confirmación'], errors = 'raise', format = \"%Y/%m/%d\", yearfirst = True)\n",
    "\n",
    "# Ordenar Fecha confirmación por mas Reciente\n",
    "df5.sort_values(by = 'Fecha confirmación', ascending = False, inplace = True)\n",
    "\n",
    "# Eliminar Duplicados\n",
    "df5.drop_duplicates(subset = 'OS+OP+MAT+CTD', keep = 'first', inplace = True)\n",
    "\n",
    "# Eliminar columna Fecha confirmación\n",
    "df5.drop(labels = 'Fecha confirmación', axis = 1, inplace = True)\n",
    "\n",
    "# Join\n",
    "df5.set_index('OS+OP+MAT+CTD', inplace = True)\n",
    "df1.set_index('OS+OP+MAT+CTD', inplace = True)\n",
    "df1 = df1.join(df5, how = 'left')\n",
    "df1.sort_values(by = 'Identificador Unico', ascending = True, inplace = True)\n",
    "df1.reset_index(inplace = True)\n",
    "\n",
    "# Relleno celdas vacías UMP con UMp destino\n",
    "df1.loc[pd.isna(df1['UMP']), 'UMP'] = df1.loc[pd.isna(df1['UMP']), 'UMp destino']\n",
    "\n",
    "# Eliminar columna UMP.destino de df1\n",
    "df1.drop(labels = 'UMp destino', axis = 1, inplace = True)"
   ]
  },
  {
   "cell_type": "code",
   "execution_count": 11,
   "id": "02a50bef",
   "metadata": {},
   "outputs": [],
   "source": [
    "# Segundo Cruce UMp.Destino y Unidad de Manipulacion Origen\n",
    "\n",
    "# Nuevo dataframe para realizar modificaciones\n",
    "df6 = df4.loc[: , ['UMp destino', 'Fecha confirmación', 'Un.manipulac.origen']]\n",
    "\n",
    "# Eliminar celdas vacías\n",
    "df6.dropna(subset = 'Un.manipulac.origen', axis = 0, inplace = True)\n",
    "df6.dropna(subset = 'UMp destino', axis = 0, inplace = True)\n",
    "df6.dropna(subset = 'Fecha confirmación', axis = 0, inplace = True)\n",
    "\n",
    "# Eliminar '00:00:00' columna Fecha confirmación\n",
    "df6['Fecha confirmación'] = df6['Fecha confirmación'].str.replace(\" 00:00:00\",\"\", regex = False)\n",
    "\n",
    "# Fecha confirmación a formato a Datetime\n",
    "df6['Fecha confirmación'] = pd.to_datetime(df6['Fecha confirmación'], errors = 'raise', format = \"%Y/%m/%d\", yearfirst = True)\n",
    "\n",
    "# Ordenar Fecha confirmación por mas Reciente\n",
    "df6.sort_values(by = 'Fecha confirmación', ascending = False, inplace = True)\n",
    "\n",
    "# Eliminar Fecha de Confirmación\n",
    "df6.drop(labels = 'Fecha confirmación', axis = 1, inplace = True)"
   ]
  },
  {
   "cell_type": "code",
   "execution_count": 12,
   "id": "dea38c5e",
   "metadata": {},
   "outputs": [],
   "source": [
    "# df7: Primero las 33*\n",
    "df7 = df6.loc[df6['UMp destino'].str.startswith('33'), :]\n",
    "\n",
    "# ELiminar duplicados de Contenedora\n",
    "df7 = df7.drop_duplicates(subset = 'Un.manipulac.origen', keep = 'first')\n",
    "\n",
    "# Join\n",
    "df7.set_index('Un.manipulac.origen', inplace = True)\n",
    "df1.set_index('UMP', inplace = True)\n",
    "df1 = df1.join(df7, how = 'left')\n",
    "df1.sort_values(by = 'Identificador Unico', ascending = True, inplace = True)\n",
    "df1.reset_index(inplace = True)\n",
    "df1.rename(columns = {'index': 'UMP'}, inplace = True)\n",
    "\n",
    "# Relleno celdas vacías UMP.SUP con UMp destino\n",
    "df1.loc[pd.isna(df1['UMP.SUP']), 'UMP.SUP'] = df1.loc[pd.isna(df1['UMP.SUP']), 'UMp destino']\n",
    "\n",
    "# Eliminar columna UMP.destino de df1\n",
    "df1.drop(labels = 'UMp destino', axis = 1, inplace = True)"
   ]
  },
  {
   "cell_type": "code",
   "execution_count": 13,
   "id": "53c4c7c2",
   "metadata": {},
   "outputs": [],
   "source": [
    "# df8: Distinto a las 33*\n",
    "df8 = df6.loc[(df6['UMp destino'].str.startswith('33')) == False , :] \n",
    "\n",
    "# ELiminar duplicados de Contenedora\n",
    "df8 = df8.drop_duplicates(subset = 'Un.manipulac.origen', keep = 'first')\n",
    "\n",
    "# Join\n",
    "df8.set_index('Un.manipulac.origen', inplace = True)\n",
    "df1.set_index('UMP', inplace = True)\n",
    "df1 = df1.join(df8, how = 'left')\n",
    "df1.sort_values(by = 'Identificador Unico', ascending = True, inplace = True)\n",
    "df1.reset_index(inplace = True)\n",
    "df1.rename(columns = {'index': 'UMP'}, inplace = True)\n",
    "\n",
    "# Relleno celdas vacías UMP.SUP con UMp destino\n",
    "df1.loc[pd.isna(df1['UMP.SUP']), 'UMP.SUP'] = df1.loc[pd.isna(df1['UMP.SUP']), 'UMp destino']\n",
    "\n",
    "# Eliminar columna UMP.destino de df1\n",
    "df1.drop(labels = 'UMp destino', axis = 1, inplace = True)"
   ]
  },
  {
   "cell_type": "code",
   "execution_count": 14,
   "id": "56a89284",
   "metadata": {},
   "outputs": [],
   "source": [
    "# 9030-D7\n",
    "\n",
    "# Leer archivo\n",
    "df9 = pd.read_excel(d7, dtype = 'string', usecols = ['Entrega','Posición','Material','Cantidad entrega', 'CASE'])\n",
    "\n",
    "# Transformaciones a la columna Cantidad de entrega para el concatenado de ERP+POS+MAT+CTD\n",
    "df9['Cantidad entrega'] = list(map(float, df9['Cantidad entrega']))\n",
    "df9['Cantidad entrega'] = list(map(int, df9['Cantidad entrega']))\n",
    "df9['Cantidad entrega'] = list(map(str, df9['Cantidad entrega']))\n",
    "\n",
    "# Crear columna ERP+POS+MAT+CTD, eliminar duplicados\n",
    "df9['ERP+POS+MAT+CTD'] = df9['Entrega'] + df9['Posición'] + df9['Material'] + df9['Cantidad entrega']\n",
    "df9.drop_duplicates(subset = 'ERP+POS+MAT+CTD', keep = 'first', inplace = True)\n",
    "\n",
    "# Eliminar columnas no necesarias para el cruce\n",
    "df9.drop(labels = ['Entrega', 'Posición', 'Cantidad entrega', 'Material'], axis = 1, inplace = True)\n",
    "\n",
    "# Join\n",
    "df9.set_index('ERP+POS+MAT+CTD', inplace = True)\n",
    "df1.set_index('ERP+POS+MAT+CTD', inplace = True)\n",
    "df1 = df1.join(df9, how = 'left')\n",
    "df1.sort_values(by = 'Identificador Unico', ascending = True, inplace = True)\n",
    "df1.reset_index(inplace = True)\n",
    "\n",
    "# Relleno Celdas Vacías UMP con Case\n",
    "df1.loc[pd.isna(df1['UMP']), 'UMP'] = df1.loc[pd.isna(df1['UMP']), 'CASE']\n",
    "\n",
    "# Eliminar Columna Case\n",
    "df1.drop(labels = 'CASE', axis = 1, inplace = True)"
   ]
  },
  {
   "cell_type": "code",
   "execution_count": 15,
   "id": "65a8b618",
   "metadata": {},
   "outputs": [],
   "source": [
    "# Volver a rellenar UMP.SUP con las 33* Primero y despues las distinta a 33*\n",
    "\n",
    "# Join\n",
    "df1.set_index('UMP', inplace = True)\n",
    "df1 = df1.join(df7, how = 'left')\n",
    "df1.sort_values(by = 'Identificador Unico', ascending = True, inplace = True)\n",
    "df1.reset_index(inplace = True)\n",
    "df1.rename(columns = {'index': 'UMP'}, inplace = True)\n",
    "\n",
    "# Relleno celdas vacías UMP.SUP con UMp destino\n",
    "df1.loc[pd.isna(df1['UMP.SUP']), 'UMP.SUP'] = df1.loc[pd.isna(df1['UMP.SUP']), 'UMp destino']\n",
    "\n",
    "# Eliminar columna UMP.destino de df1\n",
    "df1.drop(labels = 'UMp destino', axis = 1, inplace = True)"
   ]
  },
  {
   "cell_type": "code",
   "execution_count": 16,
   "id": "cef8c27a",
   "metadata": {},
   "outputs": [],
   "source": [
    "# Distinto a 33*\n",
    "\n",
    "# Join\n",
    "df1.set_index('UMP', inplace = True)\n",
    "df1 = df1.join(df8, how = 'left')\n",
    "df1.sort_values(by = 'Identificador Unico', ascending = True, inplace = True)\n",
    "df1.reset_index(inplace = True)\n",
    "df1.rename(columns = {'index': 'UMP'}, inplace = True)\n",
    "\n",
    "# Relleno celdas vacías UMP.SUP con UMp destino\n",
    "df1.loc[pd.isna(df1['UMP.SUP']), 'UMP.SUP'] = df1.loc[pd.isna(df1['UMP.SUP']), 'UMp destino']\n",
    "\n",
    "# Eliminar columna UMP.destino de df1\n",
    "df1.drop(labels = 'UMp destino', axis = 1, inplace = True)"
   ]
  },
  {
   "cell_type": "code",
   "execution_count": 17,
   "id": "eac3bd2f",
   "metadata": {},
   "outputs": [],
   "source": [
    "# Si UMP empieza con 1000, entonces UMP.SUP = UMP\n",
    "df1.loc[df1['UMP'].str.startswith('1000'), 'UMP.SUP'] = df1.loc[df1['UMP'].str.startswith('1000'), 'UMP']"
   ]
  },
  {
   "cell_type": "code",
   "execution_count": 18,
   "id": "d71dad5e",
   "metadata": {},
   "outputs": [
    {
     "name": "stderr",
     "output_type": "stream",
     "text": [
      "C:\\Users\\pablo.gutierrez\\AppData\\Local\\Temp\\ipykernel_13420\\1065728832.py:37: DeprecationWarning: In a future version, `df.iloc[:, i] = newvals` will attempt to set the values inplace instead of always setting a new array. To retain the old behavior, use either `df[df.columns[i]] = newvals` or, if columns are non-unique, `df.isetitem(i, newvals)`\n",
      "  df1.loc[pd.isna(df1['Status de la entrada de mercancías']), 'Status de la entrada de mercancías'] = \\\n"
     ]
    }
   ],
   "source": [
    "# Cruce para Fecha y Hora usando d1\n",
    "\n",
    "# Leer archivo\n",
    "df10 = pd.read_excel(d1, dtype = 'string', usecols = ['Fecha de creación', 'Hora de creación', 'Un.manipulac.origen'])\n",
    "\n",
    "# Eliminar '00:00:00' columna Fecha confirmación\n",
    "df10['Fecha de creación'] = df10['Fecha de creación'].str.replace(\" 00:00:00\",\"\", regex = False)\n",
    "\n",
    "# Fecha de creación a formato a Datetime\n",
    "df10['Fecha de creación'] = pd.to_datetime(df10['Fecha de creación'], errors = 'raise', format = \"%Y/%m/%d\", yearfirst = True)\n",
    "\n",
    "# Ordenar por mas reciente\n",
    "df10.sort_values(by = 'Fecha de creación', ascending = False, inplace = True)\n",
    "\n",
    "# Fecha a string\n",
    "df10['Fecha de creación'] = df10['Fecha de creación'].dt.strftime(\"%d/%m/%Y\")\n",
    "\n",
    "# Eliminar NA para Un.manipulac.origen\n",
    "df10.dropna(subset = 'Un.manipulac.origen', inplace = True)\n",
    "\n",
    "# ELiminar duplicados\n",
    "df10.drop_duplicates(subset = 'Un.manipulac.origen', keep = 'first', inplace = True)\n",
    "\n",
    "# Join\n",
    "df10.set_index('Un.manipulac.origen', inplace = True)\n",
    "df1.set_index('UMP.SUP', inplace = True)\n",
    "df1 = df1.join(df10, how = 'left')\n",
    "df1.sort_values(by = 'Identificador Unico', ascending = True, inplace = True)\n",
    "df1.reset_index(inplace = True)\n",
    "df1.rename(columns = {'index' : 'UMP.SUP'}, inplace = True)\n",
    "\n",
    "# Cruce Fecha\n",
    "df1.loc[pd.isna(df1['Status de entrada en stock']), 'Status de entrada en stock'] = \\\n",
    "df1.loc[pd.isna(df1['Status de entrada en stock']), 'Fecha de creación']\n",
    "\n",
    "# Cruce Hora\n",
    "df1.loc[pd.isna(df1['Status de la entrada de mercancías']), 'Status de la entrada de mercancías'] = \\\n",
    "df1.loc[pd.isna(df1['Status de la entrada de mercancías']), 'Hora de creación']\n",
    "\n",
    "# Eliminar columnas del cruce Fecha de creación y Hora de creación\n",
    "df1.drop(labels = ['Fecha de creación', 'Hora de creación'], axis = 1, inplace = True)"
   ]
  },
  {
   "cell_type": "code",
   "execution_count": 19,
   "id": "aab37964",
   "metadata": {},
   "outputs": [],
   "source": [
    "# Cruce Fecha y Hora con On Hand día anterior\n",
    "\n",
    "# Cargar On Hand dia anterior\n",
    "df11 = pd.read_excel(d9030_anterior, dtype = 'string')\n",
    "df11['D+I'] = df11['Documento'] + df11['Número de posición']\n",
    "\n",
    "# De aqui saldrá df12 para el cruce de Fecha y Hora, y df13 , para el cruce de Orden de Servicio y Operacion\n",
    "df12 = df11.loc[: , ['D+I', 'Status de entrada en stock', 'Status de la entrada de mercancías']]\n",
    "\n",
    "# Renombrar columnas para no tener problemas con el cruce\n",
    "df12.rename(columns = {'Status de entrada en stock' : 'Status de entrada en stock_2' , \n",
    "                       'Status de la entrada de mercancías' : 'Status de la entrada de mercancías_2'}, inplace = True)\n",
    "\n",
    "# Eliminar duplicados, mantener los primeros\n",
    "df12.drop_duplicates('D+I', keep = 'first', inplace = True)\n",
    "\n",
    "# Join\n",
    "df12.set_index('D+I', inplace = True)\n",
    "df1.set_index('D+I', inplace = True)\n",
    "df1 = df1.join(df12, how = 'left')\n",
    "df1.sort_values(by = 'Identificador Unico', ascending = True, inplace = True)\n",
    "df1.reset_index(inplace = True)\n",
    "\n",
    "# Reemplazar celdas vacías Fecha\n",
    "df1.loc[pd.isna(df1['Status de entrada en stock']), 'Status de entrada en stock'] =\\\n",
    "df1.loc[pd.isna(df1['Status de entrada en stock']), 'Status de entrada en stock_2']\n",
    "\n",
    "# Reemplazar celdas vacías Hora\n",
    "df1.loc[pd.isna(df1['Status de la entrada de mercancías']), 'Status de la entrada de mercancías'] =\\\n",
    "df1.loc[pd.isna(df1['Status de la entrada de mercancías']), 'Status de la entrada de mercancías_2']\n",
    "\n",
    "# Eliminar columnas de cruce\n",
    "df1.drop(labels = ['Status de entrada en stock_2', 'Status de la entrada de mercancías_2'], axis = 1, inplace = True)"
   ]
  },
  {
   "cell_type": "code",
   "execution_count": 20,
   "id": "3e87d579",
   "metadata": {},
   "outputs": [],
   "source": [
    "# Cruce Orden y Operacion con el dia anterior, crearemos df13\n",
    "df13 = df11.loc[: , ['D+I', 'Orden de servicio', 'Operación de orden de servicio']]\n",
    "\n",
    "# Renombrar columnas, para no tener problemas con el cruce\n",
    "df13.rename(columns = {'Orden de servicio' : 'Orden de servicio_2', \n",
    "                       'Operación de orden de servicio' : 'Operación de orden de servicio_2'}, inplace = True)\n",
    "\n",
    "# El archivo del día anterior no debería tener valores vacíos en OS y OP, por eso no aplicamos la funcion DropNa\n",
    "\n",
    "# Eliminar duplicados D+I\n",
    "df13.drop_duplicates('D+I', keep = 'first', inplace = True)\n",
    "\n",
    "# Join\n",
    "df13.set_index('D+I', inplace = True)\n",
    "df1.set_index('D+I', inplace = True)\n",
    "df1 = df1.join(df13, how = 'left')\n",
    "df1.sort_values(by = 'Identificador Unico', ascending = True, inplace = True)\n",
    "df1.reset_index(inplace = True)\n",
    "\n",
    "# Rellenar Ordenes de Servicio vacías\n",
    "df1.loc[pd.isna(df1['Orden de servicio']), 'Orden de servicio'] = \\\n",
    "df1.loc[pd.isna(df1['Orden de servicio']), 'Orden de servicio_2']\n",
    "\n",
    "# Rellenar Operaciones vacías\n",
    "df1.loc[pd.isna(df1['Operación de orden de servicio']), 'Operación de orden de servicio'] = \\\n",
    "df1.loc[pd.isna(df1['Operación de orden de servicio']), 'Operación de orden de servicio_2']\n",
    "\n",
    "# Eliminar columnas del cruce\n",
    "df1.drop(labels = ['Orden de servicio_2', 'Operación de orden de servicio_2'], axis = 1, inplace = True)"
   ]
  },
  {
   "cell_type": "code",
   "execution_count": 21,
   "id": "c0271365",
   "metadata": {},
   "outputs": [],
   "source": [
    "# Todos los propietarios que no pertenezcan al centro de servicios, OS = OP = 0\n",
    "\n",
    "# Orden de Servicio\n",
    "df1.loc[((df1['Propietario del stock'] != 'Y5099') & (df1['Propietario del stock'] != 'Y5082') &\\\n",
    "        (df1['Propietario del stock'] != 'Y5059') & (df1['Propietario del stock'] != 'Y5028')) &\\\n",
    "        (pd.isna(df1['Orden de servicio'])) , 'Orden de servicio']  = '0'\n",
    "\n",
    "# Operación\n",
    "df1.loc[((df1['Propietario del stock'] != 'Y5099') & (df1['Propietario del stock'] != 'Y5082') &\\\n",
    "        (df1['Propietario del stock'] != 'Y5059') & (df1['Propietario del stock'] != 'Y5028')) &\\\n",
    "        (pd.isna(df1['Operación de orden de servicio'])) , 'Operación de orden de servicio']  = '0'"
   ]
  },
  {
   "cell_type": "code",
   "execution_count": 22,
   "id": "495e012d",
   "metadata": {},
   "outputs": [],
   "source": [
    "# Cruce TU\n",
    "df_TU = pd.read_excel(TU, dtype = 'string', skipfooter = 1,\n",
    "                      usecols = ['Documento', 'Emisor de mercancía', 'Creados el', 'Unidad de transporte'])\n",
    "\n",
    "# Arreglar formato Fecha\n",
    "df_TU['Creados el'] = df_TU['Creados el'].str.replace(\" 00:00:00\",\"\", regex = False)\n",
    "df_TU['Creados el'] = pd.to_datetime(df_TU['Creados el'])\n",
    "\n",
    "# Ordenar fecha según mas reciente\n",
    "df_TU.sort_values(by = 'Creados el', ascending = False, inplace = True)\n",
    "\n",
    "# Fecha a dtype string\n",
    "df_TU['Creados el'] = df_TU['Creados el'].dt.strftime(date_format = '%d/%m/%Y')\n",
    "\n",
    "# Eliminar Duplicados de documento. Nos quedamos con el mas reciente\n",
    "df_TU.drop_duplicates(subset = 'Documento', inplace = True)\n",
    "\n",
    "# Renombrar columnas\n",
    "df_TU.rename(columns = {'Emisor de mercancía' : 'CENTRO. SUMNISTRO', 'Creados el' : 'FCH. Creacion TU', \n",
    "                        'Unidad de transporte' : 'TU' }, inplace = True)\n",
    "\n",
    "# Documento como Key value para cruce con df1\n",
    "df_TU.set_index('Documento', inplace = True)\n",
    "\n",
    "# Documento como Key value en df1\n",
    "df1.set_index('Documento', inplace = True)\n",
    "\n",
    "# Join\n",
    "df1 = df1.join(df_TU, how = 'left')\n",
    "df1.reset_index(inplace = True)\n",
    "df1.sort_values(by = 'Identificador Unico', ascending = True, inplace = True)"
   ]
  },
  {
   "cell_type": "code",
   "execution_count": 23,
   "id": "efccfc14",
   "metadata": {},
   "outputs": [],
   "source": [
    "# Eliminar Columna Identificador Único\n",
    "df1.drop(labels = 'Identificador Unico', axis = 1, inplace = True)\n",
    "\n",
    "# Reordenar columnas\n",
    "df1 = df1[['Documento', 'Número de posición', 'Pedido de compras', 'Posición de pedido', 'Orden de servicio',\n",
    "           'Operación de orden de servicio', 'Documento ERP','Posición de documento de ERP', 'Aviso de entrega',\n",
    "           'UMP.SUP', 'UMP', 'Prod.', 'Descripción de producto','Ctd.', 'Unidad medida', 'Propietario del stock',\n",
    "           'Persona autorizada a disponer', 'Status de entrada en stock', 'Status de la entrada de mercancías',\n",
    "           'TU', 'FCH. Creacion TU', 'CENTRO. SUMNISTRO']]\n",
    "\n",
    "# ERP+POS+MAT+CTD como primera columna\n",
    "df1.set_index('Documento', inplace = True)"
   ]
  },
  {
   "cell_type": "code",
   "execution_count": 24,
   "id": "5519a1d3",
   "metadata": {},
   "outputs": [],
   "source": [
    "# Descargar Archivo\n",
    "today = date.today()\n",
    "fecha_hoy = today.strftime(\"%d-%m-%Y\")\n",
    "Nombre_Archivo = '9030-DESCARGA-' + fecha_hoy + '.xlsx'\n",
    "df1.to_excel(Nombre_Archivo)"
   ]
  },
  {
   "cell_type": "code",
   "execution_count": 25,
   "id": "91aa7bab",
   "metadata": {},
   "outputs": [
    {
     "data": {
      "text/plain": [
       "True"
      ]
     },
     "execution_count": 25,
     "metadata": {},
     "output_type": "execute_result"
    }
   ],
   "source": [
    "# Abrir excel y modificarlo\n",
    "\n",
    "# Abrir Instancia Excel\n",
    "xlApp = win32.Dispatch('Excel.Application')\n",
    "xlApp.Visible = True\n",
    "\n",
    "# Abrir 9030-DESCARGA (Libro)\n",
    "path = os.path.abspath(Nombre_Archivo)\n",
    "wb = xlApp.Workbooks.Open(path)\n",
    "\n",
    "# Ajustar Columnas\n",
    "wb.Worksheets(1).Activate()\n",
    "wb.ActiveSheet.Columns.AutoFit()"
   ]
  },
  {
   "cell_type": "code",
   "execution_count": 26,
   "id": "5dda2e56",
   "metadata": {},
   "outputs": [
    {
     "name": "stdout",
     "output_type": "stream",
     "text": [
      "Tiempo Total: 0.15 minutos\n"
     ]
    }
   ],
   "source": [
    "# Calculo Tiempo Procesamiento\n",
    "end_time = time.time()\n",
    "total_time = end_time - start_time\n",
    "total_time = total_time / 60\n",
    "total_time = \"{:.2f}\".format(total_time)\n",
    "total_time = str(total_time)\n",
    "print('Tiempo Total: ' + total_time + ' minutos')"
   ]
  }
 ],
 "metadata": {
  "kernelspec": {
   "display_name": "Python 3 (ipykernel)",
   "language": "python",
   "name": "python3"
  },
  "language_info": {
   "codemirror_mode": {
    "name": "ipython",
    "version": 3
   },
   "file_extension": ".py",
   "mimetype": "text/x-python",
   "name": "python",
   "nbconvert_exporter": "python",
   "pygments_lexer": "ipython3",
   "version": "3.10.9"
  }
 },
 "nbformat": 4,
 "nbformat_minor": 5
}
