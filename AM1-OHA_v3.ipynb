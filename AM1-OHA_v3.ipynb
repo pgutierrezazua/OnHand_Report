{
 "cells": [
  {
   "cell_type": "code",
   "execution_count": 1,
   "id": "6f855214",
   "metadata": {},
   "outputs": [],
   "source": [
    "import pandas as pd\n",
    "import numpy as np"
   ]
  },
  {
   "cell_type": "code",
   "execution_count": 2,
   "id": "9c290110",
   "metadata": {},
   "outputs": [],
   "source": [
    "macro_1 = '2023-09-15 AFO BASE_Macro1.xlsb'\n",
    "oh_avance = '2023-09-15 ON HAND AVANCE.xlsb'"
   ]
  },
  {
   "cell_type": "code",
   "execution_count": 3,
   "id": "4db41e65",
   "metadata": {
    "scrolled": false
   },
   "outputs": [],
   "source": [
    "# Carga de Datos\n",
    "df1 = pd.read_excel(macro_1 , usecols = 'A:J',engine = 'pyxlsb', sheet_name = 'Hoja3', dtype = 'string')\n",
    "\n",
    "# Transformamos las columnas de Totales de String a Float data type\n",
    "for i in df1.columns[6:].values:\n",
    "    df1[i] = df1[i].astype('float')"
   ]
  },
  {
   "cell_type": "code",
   "execution_count": 4,
   "id": "7a2b30e0",
   "metadata": {},
   "outputs": [],
   "source": [
    "# On Hand Avance\n",
    "df2 = pd.read_excel(oh_avance , sheet_name = 'BASE 1' , dtype = 'string',\n",
    "                    usecols = ['OS', 'OP', 'Producto', 'Tipo almacén', 'Ubicación', 'Ctd.'])\n",
    "\n",
    "# Ctd. a float\n",
    "df2['Ctd.'] = list(map(lambda x: float(x),df2['Ctd.']))\n",
    "\n",
    "# BASE 2\n",
    "df2_base2 = pd.read_excel(oh_avance, sheet_name = 'BASE 2', dtype = 'string')\n",
    "df2_base2 = df2_base2.loc[: , ['UBICACIÓN','OBSERVACION']]"
   ]
  },
  {
   "cell_type": "code",
   "execution_count": 5,
   "id": "ab8e9960",
   "metadata": {},
   "outputs": [],
   "source": [
    "# Crear Columnas OS+OP+MAT y TP.UBI\n",
    "\n",
    "# OS+OP+MAT\n",
    "df2['OS+OP+MAT'] = df2['OS'] + df2['OP'] + df2['Producto']"
   ]
  },
  {
   "cell_type": "code",
   "execution_count": 6,
   "id": "16bc2fc5",
   "metadata": {},
   "outputs": [],
   "source": [
    "# Cruce ELIMINAR OS\n",
    "\n",
    "# Eliminar Duplicados columna Ubicación Base 2\n",
    "df2_base2.drop_duplicates(subset = 'UBICACIÓN', inplace = True)\n",
    "\n",
    "# 10.3 Join (BUSCARV en excel)\n",
    "df2.set_index('Ubicación', inplace = True)\n",
    "df2_base2.set_index('UBICACIÓN', inplace = True)\n",
    "df2 = df2.join(df2_base2, how = 'left')\n",
    "df2 = df2.reset_index()\n",
    "df2 = df2.rename({'index':'Ubicación'}, axis = 1)\n",
    "\n",
    "# 11.1 Rellenar con NO ELIMINAR aquellas celdas NA del Join\n",
    "df2['OBSERVACION'].fillna('NO ELIMINAR', inplace = True)\n",
    "\n",
    "# 11.2 Si OBSERVACION = ElIMINAR OS, OS+OP+MAT = 0\n",
    "df2.loc[df2['OBSERVACION'] == 'ELIMINAR OS', 'OS+OP+MAT'] = '0'\n",
    "\n",
    "# 11.3 Eliminamos la columna Observación\n",
    "df2.drop(columns = 'OBSERVACION', axis = 1, inplace = True)"
   ]
  },
  {
   "cell_type": "code",
   "execution_count": 7,
   "id": "e11034d1",
   "metadata": {},
   "outputs": [],
   "source": [
    "\n",
    "# TP.UBI\n",
    "df2['TP.UBI'] = pd.NA\n",
    "\n",
    "# TP UBI 8034\n",
    "df2.loc[df2['Tipo almacén'] == '8032', 'TP.UBI'] = '8034'\n",
    "df2.loc[df2['Tipo almacén'] == '8034', 'TP.UBI'] = '8034'\n",
    "df2.loc[df2['Ubicación'].str.contains('9020-CRC'), 'TP.UBI'] = '8034'\n",
    "df2.loc[df2['Ubicación'].str.contains('9020-REGUL-CRC'), 'TP.UBI'] = '8034'\n",
    "df2.loc[df2['Ubicación'].str.contains('9020-SUBKIT'), 'TP.UBI'] = '8034'\n",
    "\n",
    "# TP.UBI OTROS\n",
    "df2.loc[(pd.isna(df2['TP.UBI']) == True), 'TP.UBI'] = 'OTROS'\n",
    "\n",
    "# Nos quedamos con las columnas OS+OP+MAT y TP.UBI\n",
    "df2 = df2.drop(['OS', 'OP', 'Tipo almacén', 'Ubicación', 'Producto'], axis = 1)"
   ]
  },
  {
   "cell_type": "code",
   "execution_count": 8,
   "id": "282bdb2a",
   "metadata": {},
   "outputs": [],
   "source": [
    "# Tabla Dinámica\n",
    "df2 = pd.pivot_table(data = df2, values = 'OS+OP+MAT', index = 'OS+OP+MAT', columns = 'TP.UBI', aggfunc = np.sum)\n",
    "\n",
    "# Renombrar columnas\n",
    "df2 = df2.rename({'8034': 'OH 8034', 'OTROS': 'OH Otros'}, axis = 1)\n",
    "\n",
    "# Rellenar NaN con 0\n",
    "df2.fillna(0, inplace = True)"
   ]
  },
  {
   "cell_type": "code",
   "execution_count": 9,
   "id": "8c2c69d8",
   "metadata": {},
   "outputs": [],
   "source": [
    "# Cruce Macro 1 y O.H\n",
    "df1 = df1.set_index('OS+OP+Mat')\n",
    "df1 = df1.join(df2, how = 'left')\n",
    "df1 = df1.reset_index()\n",
    "df1 = df1.set_index('OS+OP')"
   ]
  },
  {
   "cell_type": "code",
   "execution_count": 10,
   "id": "7c87e889",
   "metadata": {},
   "outputs": [],
   "source": [
    "# Columnas Adicionales y sus cálculos\n",
    "\n",
    "# OH Total\n",
    "df1['OH Total'] = df1['OH 8034'] + df1['OH Otros']\n",
    "df1['OH Total'].fillna(0, inplace = True)"
   ]
  },
  {
   "cell_type": "code",
   "execution_count": 11,
   "id": "d7c4c446",
   "metadata": {},
   "outputs": [],
   "source": [
    "# Delta\n",
    "df1['Delta'] = df1['OH Total'] - df1['TFaltanteBO']\n",
    "df1['Delta'].fillna(0, inplace = True)"
   ]
  },
  {
   "cell_type": "code",
   "execution_count": 12,
   "id": "cc101a79",
   "metadata": {},
   "outputs": [],
   "source": [
    "# Dejar vacío todo lo que tenga 0\n",
    "df1.loc[df1['OH 8034'] == 0, 'OH 8034'] = pd.NA\n",
    "df1.loc[df1['OH Otros'] == 0, 'OH Otros'] = pd.NA"
   ]
  },
  {
   "cell_type": "code",
   "execution_count": 13,
   "id": "9795478d",
   "metadata": {},
   "outputs": [],
   "source": [
    "df1.to_excel('Macro1xOnHand_v3.xlsx')"
   ]
  }
 ],
 "metadata": {
  "kernelspec": {
   "display_name": "Python 3 (ipykernel)",
   "language": "python",
   "name": "python3"
  },
  "language_info": {
   "codemirror_mode": {
    "name": "ipython",
    "version": 3
   },
   "file_extension": ".py",
   "mimetype": "text/x-python",
   "name": "python",
   "nbconvert_exporter": "python",
   "pygments_lexer": "ipython3",
   "version": "3.10.9"
  }
 },
 "nbformat": 4,
 "nbformat_minor": 5
}
